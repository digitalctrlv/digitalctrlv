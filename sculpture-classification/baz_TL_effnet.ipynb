{
  "metadata": {
    "kernelspec": {
      "name": "python3",
      "display_name": "Python 3 (ipykernel)",
      "language": "python"
    },
    "language_info": {
      "name": "python",
      "version": "3.8.10",
      "mimetype": "text/x-python",
      "codemirror_mode": {
        "name": "ipython",
        "version": 3
      },
      "pygments_lexer": "ipython3",
      "nbconvert_exporter": "python",
      "file_extension": ".py"
    },
    "colab": {
      "provenance": [],
      "gpuType": "T4"
    },
    "accelerator": "GPU"
  },
  "nbformat_minor": 0,
  "nbformat": 4,
  "cells": [
    {
      "cell_type": "markdown",
      "source": [
        "# **SPECIAL TOPICS PROJECT NOTEBOOK**\n",
        "## 'Classification of Modern Sculpture Using Convolutional Neural Networks'\n",
        "### Anouk Flinkert, s2313820\n",
        "### Leiden University Centre for Digital Humanities\n",
        "### 26-6-2023\n",
        "\n",
        "\n",
        "\n",
        "---"
      ],
      "metadata": {
        "id": "jHIDNXMQvd-k",
        "azdata_cell_guid": "7e271a86-c06b-4294-9505-e369943af701"
      }
    },
    {
      "cell_type": "markdown",
      "source": [
        "In this project, I attempted to employ a Deep Learning algorithm known as a Convolutional Neural Network (CNN), to classify the types of sculpture in BaZ’s collection using the Transfer Learning technique on a pre-trained model.\n",
        "\n",
        "The pre-trained CNN used:\n",
        "* EfficientNet_B0_Weights.IMAGENET1K_V1\n",
        "\n",
        "The dataset's classes:\n",
        "1.   bust\n",
        "2.   figure\n",
        "3.  fragment\n",
        "4. geometric form\n",
        "5. head\n",
        "6. installation\n",
        "7. organic form\n",
        "8. relievo\n",
        "\n",
        "\n",
        "The following code can only be run through access to the custom dataset 'baz_dataset_V1'.\n",
        "\n",
        "\n",
        "\n",
        "\n",
        "\n"
      ],
      "metadata": {
        "id": "kGFb-qrAc_DF"
      }
    },
    {
      "cell_type": "markdown",
      "source": [
        "Deliberate decisions on for example hyperparameters and interpretation of the results are reported in the final report."
      ],
      "metadata": {
        "id": "wZeXGEnhe5EQ"
      }
    },
    {
      "cell_type": "markdown",
      "source": [
        "## 0. Importing relevant libraries and configuration to the Wandb API"
      ],
      "metadata": {
        "id": "ooF7pDHwc9kn"
      }
    },
    {
      "cell_type": "code",
      "source": [
        "# If not already installed, uncomment line below\n",
        "# !pip install torchmetrics"
      ],
      "metadata": {
        "id": "KzX1eZo9ZTXn",
        "azdata_cell_guid": "95d275e6-c8fa-4b11-94fe-25e467921aa6",
        "language": "python"
      },
      "outputs": [],
      "execution_count": null
    },
    {
      "cell_type": "code",
      "source": [
        "# If not already installed, uncomment line below\n",
        "# !pip install wandb"
      ],
      "metadata": {
        "id": "W6XoRJylFyKU",
        "azdata_cell_guid": "dd5abc10-d09b-4be0-a5b0-45c1213e42f7",
        "language": "python"
      },
      "outputs": [],
      "execution_count": null
    },
    {
      "cell_type": "code",
      "source": [
        "# Necessary imports for image classification and visualizations using torchvision\n",
        "import matplotlib.pyplot as plt\n",
        "import os\n",
        "import torch\n",
        "import torchvision\n",
        "import torch.utils.data as data_utils\n",
        "\n",
        "from torch.utils.data import DataLoader\n",
        "from torchvision.datasets import ImageFolder\n",
        "from torch import nn\n",
        "from torchvision import transforms, datasets\n",
        "from torchmetrics.classification import MulticlassAccuracy as Accuracy\n",
        "\n",
        "# # Wandb API for tracking model performance and metrics in wandb.ai environment\n",
        "# import wandb\n",
        "\n",
        "# Setup device agnostic code\n",
        "device = \"cuda\" if torch.cuda.is_available() else \"cpu\"\n",
        "# Check the device\n",
        "device\n",
        "\n",
        "# Key saved in environment to automatically login to user profile\n",
        "os.environ[\"WANDB_API_KEY\"] = \"42f496848618e2655c524b7fbd255b7f5c476f31\"\n",
        "\n",
        "wandb.login()\n",
        "wandb.init(\n",
        "    project='Baz_Classification'\n",
        "\n",
        ")"
      ],
      "metadata": {
        "colab": {
          "base_uri": "https://localhost:8080/",
          "height": 142
        },
        "id": "zOhUmZZ7SknQ",
        "outputId": "51c44fa0-132a-4f60-8b88-2bf22d7a0823",
        "azdata_cell_guid": "0ea44ca3-69f2-48b2-8292-85a8ae8e2401",
        "language": "python"
      },
      "outputs": [
        {
          "data": {
            "text/plain": "'cpu'"
          },
          "metadata": {},
          "execution_count": 73,
          "output_type": "execute_result"
        }
      ],
      "execution_count": null
    },
    {
      "cell_type": "code",
      "source": [
        "# Wandb configuration that helps regulating epochs and batch_size\n",
        "config = {\n",
        "    'epochs': 50,\n",
        "    'batch_size': 32\n",
        "}\n"
      ],
      "metadata": {
        "azdata_cell_guid": "7a81549d-221a-433a-a829-9a2afd9adf74",
        "language": "python",
        "id": "MoljQDiC42en"
      },
      "outputs": [],
      "execution_count": null
    },
    {
      "cell_type": "markdown",
      "source": [
        "## 1. Data preperation"
      ],
      "metadata": {
        "id": "wcfmNhcPfdJI"
      }
    },
    {
      "cell_type": "markdown",
      "source": [
        "### 1.1 Defining the manual transforms applied to the data\n",
        "\n",
        "For documentation on the utilized augmentation TrivialAugmentWide: https://pytorch.org/vision/main/generated/torchvision.transforms.TrivialAugmentWide.html"
      ],
      "metadata": {
        "id": "IlrcQs74edfg"
      }
    },
    {
      "cell_type": "code",
      "source": [
        "from torchvision import transforms\n",
        "\n",
        "# Define function for manually created transformation to data\n",
        "manual_transform = transforms.Compose([\n",
        "    transforms.Resize((224, 224)), # Reshape all images to 224x224\n",
        "    transforms.Grayscale(num_output_channels=3), # Turns data into grayscale images for algorithmic simplification and reduces computation time\n",
        "    transforms.TrivialAugmentWide(num_magnitude_bins=31), # Slightly alters images, creating more data for the model to make predictions on\n",
        "    transforms.ToTensor(), # Turn image values to between 0 & 1\n",
        "])\n"
      ],
      "metadata": {
        "id": "51m-SHH-sqY4",
        "azdata_cell_guid": "36299bdf-052d-4837-9506-d91dc6def36e",
        "language": "python"
      },
      "outputs": [],
      "execution_count": null
    },
    {
      "cell_type": "markdown",
      "source": [
        "### 1.2 Downloading data to the Torchvision environment"
      ],
      "metadata": {
        "id": "r8NEW0_3faIp"
      }
    },
    {
      "cell_type": "code",
      "source": [
        "# Setup training data using the built-in ImageFolder function of the torchvision library\n",
        "train_data = torchvision.datasets.ImageFolder(\n",
        "    root=r\"D:\\Special Topics project\\datasets\\baz_dataset_V1\\train\", # Give the path to the dataset directory -> stored on local storage\n",
        "    transform=manual_transform, # Use manual_transform on data\n",
        "    target_transform=None # Don't transform labels\n",
        ")\n",
        "\n",
        "# Setup testing data\n",
        "test_data = torchvision.datasets.ImageFolder(\n",
        "    root=r\"D:\\Special Topics project\\datasets\\baz_dataset_V1\\test\",\n",
        "    transform=manual_transform # Use the transform for test\n",
        ")\n",
        "\n",
        "# Define and create a list of the classes\n",
        "class_names = train_data.classes"
      ],
      "metadata": {
        "id": "sdhfSGACqOoX",
        "azdata_cell_guid": "c9dd7089-4151-4c4f-90fe-533613ed996b",
        "language": "python",
        "tags": []
      },
      "outputs": [],
      "execution_count": null
    },
    {
      "cell_type": "markdown",
      "source": [
        "### 1.3 Dataloaders"
      ],
      "metadata": {
        "id": "pxXJ7fCsgSXp"
      }
    },
    {
      "cell_type": "code",
      "source": [
        "from torch.utils.data import DataLoader\n",
        "\n",
        "# Turns the dataset into iterable batches\n",
        "train_dataloader = DataLoader(train_data,\n",
        "    batch_size=config['batch_size'], # Batch size is predefined using the wandb configuration\n",
        "    shuffle=True # Shuffles data in batches every epoch to prevent overfitting in a multiclass dataset\n",
        ")\n",
        "\n",
        "test_dataloader = DataLoader(test_data,\n",
        "    batch_size=config['batch_size'],\n",
        "    shuffle=False\n",
        ")\n"
      ],
      "metadata": {
        "id": "_hjMXe0_T4QT",
        "azdata_cell_guid": "a9010b60-906b-42de-9189-874220f1f4e6",
        "language": "python"
      },
      "outputs": [],
      "execution_count": null
    },
    {
      "cell_type": "markdown",
      "source": [
        "## 2. Loading the pre-trained model 'EfficientNet_B0'\n"
      ],
      "metadata": {
        "id": "kNgUAe608i2m",
        "azdata_cell_guid": "bb2e92a2-6e13-4bb0-b5f4-92069c34b440"
      }
    },
    {
      "cell_type": "code",
      "source": [
        "# Load the model with pretrained weights\n",
        "weights = torchvision.models.EfficientNet_B0_Weights.DEFAULT  # .DEFAULT = best available weights for specific model\n",
        "model = torchvision.models.efficientnet_b0(weights=weights).to(device) # Send it to the target devic\n",
        "\n",
        "# Investigates the model\n",
        "model"
      ],
      "metadata": {
        "id": "s7HDiWZAtqA0",
        "azdata_cell_guid": "495991c3-dace-4458-b95e-d7a96233a02f",
        "language": "python",
        "outputId": "5599fb0f-2169-41ea-e1cc-dbfbf42add55"
      },
      "outputs": [
        {
          "data": {
            "text/plain": "EfficientNet(\n  (features): Sequential(\n    (0): Conv2dNormActivation(\n      (0): Conv2d(3, 32, kernel_size=(3, 3), stride=(2, 2), padding=(1, 1), bias=False)\n      (1): BatchNorm2d(32, eps=1e-05, momentum=0.1, affine=True, track_running_stats=True)\n      (2): SiLU(inplace=True)\n    )\n    (1): Sequential(\n      (0): MBConv(\n        (block): Sequential(\n          (0): Conv2dNormActivation(\n            (0): Conv2d(32, 32, kernel_size=(3, 3), stride=(1, 1), padding=(1, 1), groups=32, bias=False)\n            (1): BatchNorm2d(32, eps=1e-05, momentum=0.1, affine=True, track_running_stats=True)\n            (2): SiLU(inplace=True)\n          )\n          (1): SqueezeExcitation(\n            (avgpool): AdaptiveAvgPool2d(output_size=1)\n            (fc1): Conv2d(32, 8, kernel_size=(1, 1), stride=(1, 1))\n            (fc2): Conv2d(8, 32, kernel_size=(1, 1), stride=(1, 1))\n            (activation): SiLU(inplace=True)\n            (scale_activation): Sigmoid()\n          )\n          (2): Conv2dNormActivation(\n            (0): Conv2d(32, 16, kernel_size=(1, 1), stride=(1, 1), bias=False)\n            (1): BatchNorm2d(16, eps=1e-05, momentum=0.1, affine=True, track_running_stats=True)\n          )\n        )\n        (stochastic_depth): StochasticDepth(p=0.0, mode=row)\n      )\n    )\n    (2): Sequential(\n      (0): MBConv(\n        (block): Sequential(\n          (0): Conv2dNormActivation(\n            (0): Conv2d(16, 96, kernel_size=(1, 1), stride=(1, 1), bias=False)\n            (1): BatchNorm2d(96, eps=1e-05, momentum=0.1, affine=True, track_running_stats=True)\n            (2): SiLU(inplace=True)\n          )\n          (1): Conv2dNormActivation(\n            (0): Conv2d(96, 96, kernel_size=(3, 3), stride=(2, 2), padding=(1, 1), groups=96, bias=False)\n            (1): BatchNorm2d(96, eps=1e-05, momentum=0.1, affine=True, track_running_stats=True)\n            (2): SiLU(inplace=True)\n          )\n          (2): SqueezeExcitation(\n            (avgpool): AdaptiveAvgPool2d(output_size=1)\n            (fc1): Conv2d(96, 4, kernel_size=(1, 1), stride=(1, 1))\n            (fc2): Conv2d(4, 96, kernel_size=(1, 1), stride=(1, 1))\n            (activation): SiLU(inplace=True)\n            (scale_activation): Sigmoid()\n          )\n          (3): Conv2dNormActivation(\n            (0): Conv2d(96, 24, kernel_size=(1, 1), stride=(1, 1), bias=False)\n            (1): BatchNorm2d(24, eps=1e-05, momentum=0.1, affine=True, track_running_stats=True)\n          )\n        )\n        (stochastic_depth): StochasticDepth(p=0.0125, mode=row)\n      )\n      (1): MBConv(\n        (block): Sequential(\n          (0): Conv2dNormActivation(\n            (0): Conv2d(24, 144, kernel_size=(1, 1), stride=(1, 1), bias=False)\n            (1): BatchNorm2d(144, eps=1e-05, momentum=0.1, affine=True, track_running_stats=True)\n            (2): SiLU(inplace=True)\n          )\n          (1): Conv2dNormActivation(\n            (0): Conv2d(144, 144, kernel_size=(3, 3), stride=(1, 1), padding=(1, 1), groups=144, bias=False)\n            (1): BatchNorm2d(144, eps=1e-05, momentum=0.1, affine=True, track_running_stats=True)\n            (2): SiLU(inplace=True)\n          )\n          (2): SqueezeExcitation(\n            (avgpool): AdaptiveAvgPool2d(output_size=1)\n            (fc1): Conv2d(144, 6, kernel_size=(1, 1), stride=(1, 1))\n            (fc2): Conv2d(6, 144, kernel_size=(1, 1), stride=(1, 1))\n            (activation): SiLU(inplace=True)\n            (scale_activation): Sigmoid()\n          )\n          (3): Conv2dNormActivation(\n            (0): Conv2d(144, 24, kernel_size=(1, 1), stride=(1, 1), bias=False)\n            (1): BatchNorm2d(24, eps=1e-05, momentum=0.1, affine=True, track_running_stats=True)\n          )\n        )\n        (stochastic_depth): StochasticDepth(p=0.025, mode=row)\n      )\n    )\n    (3): Sequential(\n      (0): MBConv(\n        (block): Sequential(\n          (0): Conv2dNormActivation(\n            (0): Conv2d(24, 144, kernel_size=(1, 1), stride=(1, 1), bias=False)\n            (1): BatchNorm2d(144, eps=1e-05, momentum=0.1, affine=True, track_running_stats=True)\n            (2): SiLU(inplace=True)\n          )\n          (1): Conv2dNormActivation(\n            (0): Conv2d(144, 144, kernel_size=(5, 5), stride=(2, 2), padding=(2, 2), groups=144, bias=False)\n            (1): BatchNorm2d(144, eps=1e-05, momentum=0.1, affine=True, track_running_stats=True)\n            (2): SiLU(inplace=True)\n          )\n          (2): SqueezeExcitation(\n            (avgpool): AdaptiveAvgPool2d(output_size=1)\n            (fc1): Conv2d(144, 6, kernel_size=(1, 1), stride=(1, 1))\n            (fc2): Conv2d(6, 144, kernel_size=(1, 1), stride=(1, 1))\n            (activation): SiLU(inplace=True)\n            (scale_activation): Sigmoid()\n          )\n          (3): Conv2dNormActivation(\n            (0): Conv2d(144, 40, kernel_size=(1, 1), stride=(1, 1), bias=False)\n            (1): BatchNorm2d(40, eps=1e-05, momentum=0.1, affine=True, track_running_stats=True)\n          )\n        )\n        (stochastic_depth): StochasticDepth(p=0.037500000000000006, mode=row)\n      )\n      (1): MBConv(\n        (block): Sequential(\n          (0): Conv2dNormActivation(\n            (0): Conv2d(40, 240, kernel_size=(1, 1), stride=(1, 1), bias=False)\n            (1): BatchNorm2d(240, eps=1e-05, momentum=0.1, affine=True, track_running_stats=True)\n            (2): SiLU(inplace=True)\n          )\n          (1): Conv2dNormActivation(\n            (0): Conv2d(240, 240, kernel_size=(5, 5), stride=(1, 1), padding=(2, 2), groups=240, bias=False)\n            (1): BatchNorm2d(240, eps=1e-05, momentum=0.1, affine=True, track_running_stats=True)\n            (2): SiLU(inplace=True)\n          )\n          (2): SqueezeExcitation(\n            (avgpool): AdaptiveAvgPool2d(output_size=1)\n            (fc1): Conv2d(240, 10, kernel_size=(1, 1), stride=(1, 1))\n            (fc2): Conv2d(10, 240, kernel_size=(1, 1), stride=(1, 1))\n            (activation): SiLU(inplace=True)\n            (scale_activation): Sigmoid()\n          )\n          (3): Conv2dNormActivation(\n            (0): Conv2d(240, 40, kernel_size=(1, 1), stride=(1, 1), bias=False)\n            (1): BatchNorm2d(40, eps=1e-05, momentum=0.1, affine=True, track_running_stats=True)\n          )\n        )\n        (stochastic_depth): StochasticDepth(p=0.05, mode=row)\n      )\n    )\n    (4): Sequential(\n      (0): MBConv(\n        (block): Sequential(\n          (0): Conv2dNormActivation(\n            (0): Conv2d(40, 240, kernel_size=(1, 1), stride=(1, 1), bias=False)\n            (1): BatchNorm2d(240, eps=1e-05, momentum=0.1, affine=True, track_running_stats=True)\n            (2): SiLU(inplace=True)\n          )\n          (1): Conv2dNormActivation(\n            (0): Conv2d(240, 240, kernel_size=(3, 3), stride=(2, 2), padding=(1, 1), groups=240, bias=False)\n            (1): BatchNorm2d(240, eps=1e-05, momentum=0.1, affine=True, track_running_stats=True)\n            (2): SiLU(inplace=True)\n          )\n          (2): SqueezeExcitation(\n            (avgpool): AdaptiveAvgPool2d(output_size=1)\n            (fc1): Conv2d(240, 10, kernel_size=(1, 1), stride=(1, 1))\n            (fc2): Conv2d(10, 240, kernel_size=(1, 1), stride=(1, 1))\n            (activation): SiLU(inplace=True)\n            (scale_activation): Sigmoid()\n          )\n          (3): Conv2dNormActivation(\n            (0): Conv2d(240, 80, kernel_size=(1, 1), stride=(1, 1), bias=False)\n            (1): BatchNorm2d(80, eps=1e-05, momentum=0.1, affine=True, track_running_stats=True)\n          )\n        )\n        (stochastic_depth): StochasticDepth(p=0.0625, mode=row)\n      )\n      (1): MBConv(\n        (block): Sequential(\n          (0): Conv2dNormActivation(\n            (0): Conv2d(80, 480, kernel_size=(1, 1), stride=(1, 1), bias=False)\n            (1): BatchNorm2d(480, eps=1e-05, momentum=0.1, affine=True, track_running_stats=True)\n            (2): SiLU(inplace=True)\n          )\n          (1): Conv2dNormActivation(\n            (0): Conv2d(480, 480, kernel_size=(3, 3), stride=(1, 1), padding=(1, 1), groups=480, bias=False)\n            (1): BatchNorm2d(480, eps=1e-05, momentum=0.1, affine=True, track_running_stats=True)\n            (2): SiLU(inplace=True)\n          )\n          (2): SqueezeExcitation(\n            (avgpool): AdaptiveAvgPool2d(output_size=1)\n            (fc1): Conv2d(480, 20, kernel_size=(1, 1), stride=(1, 1))\n            (fc2): Conv2d(20, 480, kernel_size=(1, 1), stride=(1, 1))\n            (activation): SiLU(inplace=True)\n            (scale_activation): Sigmoid()\n          )\n          (3): Conv2dNormActivation(\n            (0): Conv2d(480, 80, kernel_size=(1, 1), stride=(1, 1), bias=False)\n            (1): BatchNorm2d(80, eps=1e-05, momentum=0.1, affine=True, track_running_stats=True)\n          )\n        )\n        (stochastic_depth): StochasticDepth(p=0.07500000000000001, mode=row)\n      )\n      (2): MBConv(\n        (block): Sequential(\n          (0): Conv2dNormActivation(\n            (0): Conv2d(80, 480, kernel_size=(1, 1), stride=(1, 1), bias=False)\n            (1): BatchNorm2d(480, eps=1e-05, momentum=0.1, affine=True, track_running_stats=True)\n            (2): SiLU(inplace=True)\n          )\n          (1): Conv2dNormActivation(\n            (0): Conv2d(480, 480, kernel_size=(3, 3), stride=(1, 1), padding=(1, 1), groups=480, bias=False)\n            (1): BatchNorm2d(480, eps=1e-05, momentum=0.1, affine=True, track_running_stats=True)\n            (2): SiLU(inplace=True)\n          )\n          (2): SqueezeExcitation(\n            (avgpool): AdaptiveAvgPool2d(output_size=1)\n            (fc1): Conv2d(480, 20, kernel_size=(1, 1), stride=(1, 1))\n            (fc2): Conv2d(20, 480, kernel_size=(1, 1), stride=(1, 1))\n            (activation): SiLU(inplace=True)\n            (scale_activation): Sigmoid()\n          )\n          (3): Conv2dNormActivation(\n            (0): Conv2d(480, 80, kernel_size=(1, 1), stride=(1, 1), bias=False)\n            (1): BatchNorm2d(80, eps=1e-05, momentum=0.1, affine=True, track_running_stats=True)\n          )\n        )\n        (stochastic_depth): StochasticDepth(p=0.08750000000000001, mode=row)\n      )\n    )\n    (5): Sequential(\n      (0): MBConv(\n        (block): Sequential(\n          (0): Conv2dNormActivation(\n            (0): Conv2d(80, 480, kernel_size=(1, 1), stride=(1, 1), bias=False)\n            (1): BatchNorm2d(480, eps=1e-05, momentum=0.1, affine=True, track_running_stats=True)\n            (2): SiLU(inplace=True)\n          )\n          (1): Conv2dNormActivation(\n            (0): Conv2d(480, 480, kernel_size=(5, 5), stride=(1, 1), padding=(2, 2), groups=480, bias=False)\n            (1): BatchNorm2d(480, eps=1e-05, momentum=0.1, affine=True, track_running_stats=True)\n            (2): SiLU(inplace=True)\n          )\n          (2): SqueezeExcitation(\n            (avgpool): AdaptiveAvgPool2d(output_size=1)\n            (fc1): Conv2d(480, 20, kernel_size=(1, 1), stride=(1, 1))\n            (fc2): Conv2d(20, 480, kernel_size=(1, 1), stride=(1, 1))\n            (activation): SiLU(inplace=True)\n            (scale_activation): Sigmoid()\n          )\n          (3): Conv2dNormActivation(\n            (0): Conv2d(480, 112, kernel_size=(1, 1), stride=(1, 1), bias=False)\n            (1): BatchNorm2d(112, eps=1e-05, momentum=0.1, affine=True, track_running_stats=True)\n          )\n        )\n        (stochastic_depth): StochasticDepth(p=0.1, mode=row)\n      )\n      (1): MBConv(\n        (block): Sequential(\n          (0): Conv2dNormActivation(\n            (0): Conv2d(112, 672, kernel_size=(1, 1), stride=(1, 1), bias=False)\n            (1): BatchNorm2d(672, eps=1e-05, momentum=0.1, affine=True, track_running_stats=True)\n            (2): SiLU(inplace=True)\n          )\n          (1): Conv2dNormActivation(\n            (0): Conv2d(672, 672, kernel_size=(5, 5), stride=(1, 1), padding=(2, 2), groups=672, bias=False)\n            (1): BatchNorm2d(672, eps=1e-05, momentum=0.1, affine=True, track_running_stats=True)\n            (2): SiLU(inplace=True)\n          )\n          (2): SqueezeExcitation(\n            (avgpool): AdaptiveAvgPool2d(output_size=1)\n            (fc1): Conv2d(672, 28, kernel_size=(1, 1), stride=(1, 1))\n            (fc2): Conv2d(28, 672, kernel_size=(1, 1), stride=(1, 1))\n            (activation): SiLU(inplace=True)\n            (scale_activation): Sigmoid()\n          )\n          (3): Conv2dNormActivation(\n            (0): Conv2d(672, 112, kernel_size=(1, 1), stride=(1, 1), bias=False)\n            (1): BatchNorm2d(112, eps=1e-05, momentum=0.1, affine=True, track_running_stats=True)\n          )\n        )\n        (stochastic_depth): StochasticDepth(p=0.1125, mode=row)\n      )\n      (2): MBConv(\n        (block): Sequential(\n          (0): Conv2dNormActivation(\n            (0): Conv2d(112, 672, kernel_size=(1, 1), stride=(1, 1), bias=False)\n            (1): BatchNorm2d(672, eps=1e-05, momentum=0.1, affine=True, track_running_stats=True)\n            (2): SiLU(inplace=True)\n          )\n          (1): Conv2dNormActivation(\n            (0): Conv2d(672, 672, kernel_size=(5, 5), stride=(1, 1), padding=(2, 2), groups=672, bias=False)\n            (1): BatchNorm2d(672, eps=1e-05, momentum=0.1, affine=True, track_running_stats=True)\n            (2): SiLU(inplace=True)\n          )\n          (2): SqueezeExcitation(\n            (avgpool): AdaptiveAvgPool2d(output_size=1)\n            (fc1): Conv2d(672, 28, kernel_size=(1, 1), stride=(1, 1))\n            (fc2): Conv2d(28, 672, kernel_size=(1, 1), stride=(1, 1))\n            (activation): SiLU(inplace=True)\n            (scale_activation): Sigmoid()\n          )\n          (3): Conv2dNormActivation(\n            (0): Conv2d(672, 112, kernel_size=(1, 1), stride=(1, 1), bias=False)\n            (1): BatchNorm2d(112, eps=1e-05, momentum=0.1, affine=True, track_running_stats=True)\n          )\n        )\n        (stochastic_depth): StochasticDepth(p=0.125, mode=row)\n      )\n    )\n    (6): Sequential(\n      (0): MBConv(\n        (block): Sequential(\n          (0): Conv2dNormActivation(\n            (0): Conv2d(112, 672, kernel_size=(1, 1), stride=(1, 1), bias=False)\n            (1): BatchNorm2d(672, eps=1e-05, momentum=0.1, affine=True, track_running_stats=True)\n            (2): SiLU(inplace=True)\n          )\n          (1): Conv2dNormActivation(\n            (0): Conv2d(672, 672, kernel_size=(5, 5), stride=(2, 2), padding=(2, 2), groups=672, bias=False)\n            (1): BatchNorm2d(672, eps=1e-05, momentum=0.1, affine=True, track_running_stats=True)\n            (2): SiLU(inplace=True)\n          )\n          (2): SqueezeExcitation(\n            (avgpool): AdaptiveAvgPool2d(output_size=1)\n            (fc1): Conv2d(672, 28, kernel_size=(1, 1), stride=(1, 1))\n            (fc2): Conv2d(28, 672, kernel_size=(1, 1), stride=(1, 1))\n            (activation): SiLU(inplace=True)\n            (scale_activation): Sigmoid()\n          )\n          (3): Conv2dNormActivation(\n            (0): Conv2d(672, 192, kernel_size=(1, 1), stride=(1, 1), bias=False)\n            (1): BatchNorm2d(192, eps=1e-05, momentum=0.1, affine=True, track_running_stats=True)\n          )\n        )\n        (stochastic_depth): StochasticDepth(p=0.1375, mode=row)\n      )\n      (1): MBConv(\n        (block): Sequential(\n          (0): Conv2dNormActivation(\n            (0): Conv2d(192, 1152, kernel_size=(1, 1), stride=(1, 1), bias=False)\n            (1): BatchNorm2d(1152, eps=1e-05, momentum=0.1, affine=True, track_running_stats=True)\n            (2): SiLU(inplace=True)\n          )\n          (1): Conv2dNormActivation(\n            (0): Conv2d(1152, 1152, kernel_size=(5, 5), stride=(1, 1), padding=(2, 2), groups=1152, bias=False)\n            (1): BatchNorm2d(1152, eps=1e-05, momentum=0.1, affine=True, track_running_stats=True)\n            (2): SiLU(inplace=True)\n          )\n          (2): SqueezeExcitation(\n            (avgpool): AdaptiveAvgPool2d(output_size=1)\n            (fc1): Conv2d(1152, 48, kernel_size=(1, 1), stride=(1, 1))\n            (fc2): Conv2d(48, 1152, kernel_size=(1, 1), stride=(1, 1))\n            (activation): SiLU(inplace=True)\n            (scale_activation): Sigmoid()\n          )\n          (3): Conv2dNormActivation(\n            (0): Conv2d(1152, 192, kernel_size=(1, 1), stride=(1, 1), bias=False)\n            (1): BatchNorm2d(192, eps=1e-05, momentum=0.1, affine=True, track_running_stats=True)\n          )\n        )\n        (stochastic_depth): StochasticDepth(p=0.15000000000000002, mode=row)\n      )\n      (2): MBConv(\n        (block): Sequential(\n          (0): Conv2dNormActivation(\n            (0): Conv2d(192, 1152, kernel_size=(1, 1), stride=(1, 1), bias=False)\n            (1): BatchNorm2d(1152, eps=1e-05, momentum=0.1, affine=True, track_running_stats=True)\n            (2): SiLU(inplace=True)\n          )\n          (1): Conv2dNormActivation(\n            (0): Conv2d(1152, 1152, kernel_size=(5, 5), stride=(1, 1), padding=(2, 2), groups=1152, bias=False)\n            (1): BatchNorm2d(1152, eps=1e-05, momentum=0.1, affine=True, track_running_stats=True)\n            (2): SiLU(inplace=True)\n          )\n          (2): SqueezeExcitation(\n            (avgpool): AdaptiveAvgPool2d(output_size=1)\n            (fc1): Conv2d(1152, 48, kernel_size=(1, 1), stride=(1, 1))\n            (fc2): Conv2d(48, 1152, kernel_size=(1, 1), stride=(1, 1))\n            (activation): SiLU(inplace=True)\n            (scale_activation): Sigmoid()\n          )\n          (3): Conv2dNormActivation(\n            (0): Conv2d(1152, 192, kernel_size=(1, 1), stride=(1, 1), bias=False)\n            (1): BatchNorm2d(192, eps=1e-05, momentum=0.1, affine=True, track_running_stats=True)\n          )\n        )\n        (stochastic_depth): StochasticDepth(p=0.1625, mode=row)\n      )\n      (3): MBConv(\n        (block): Sequential(\n          (0): Conv2dNormActivation(\n            (0): Conv2d(192, 1152, kernel_size=(1, 1), stride=(1, 1), bias=False)\n            (1): BatchNorm2d(1152, eps=1e-05, momentum=0.1, affine=True, track_running_stats=True)\n            (2): SiLU(inplace=True)\n          )\n          (1): Conv2dNormActivation(\n            (0): Conv2d(1152, 1152, kernel_size=(5, 5), stride=(1, 1), padding=(2, 2), groups=1152, bias=False)\n            (1): BatchNorm2d(1152, eps=1e-05, momentum=0.1, affine=True, track_running_stats=True)\n            (2): SiLU(inplace=True)\n          )\n          (2): SqueezeExcitation(\n            (avgpool): AdaptiveAvgPool2d(output_size=1)\n            (fc1): Conv2d(1152, 48, kernel_size=(1, 1), stride=(1, 1))\n            (fc2): Conv2d(48, 1152, kernel_size=(1, 1), stride=(1, 1))\n            (activation): SiLU(inplace=True)\n            (scale_activation): Sigmoid()\n          )\n          (3): Conv2dNormActivation(\n            (0): Conv2d(1152, 192, kernel_size=(1, 1), stride=(1, 1), bias=False)\n            (1): BatchNorm2d(192, eps=1e-05, momentum=0.1, affine=True, track_running_stats=True)\n          )\n        )\n        (stochastic_depth): StochasticDepth(p=0.17500000000000002, mode=row)\n      )\n    )\n    (7): Sequential(\n      (0): MBConv(\n        (block): Sequential(\n          (0): Conv2dNormActivation(\n            (0): Conv2d(192, 1152, kernel_size=(1, 1), stride=(1, 1), bias=False)\n            (1): BatchNorm2d(1152, eps=1e-05, momentum=0.1, affine=True, track_running_stats=True)\n            (2): SiLU(inplace=True)\n          )\n          (1): Conv2dNormActivation(\n            (0): Conv2d(1152, 1152, kernel_size=(3, 3), stride=(1, 1), padding=(1, 1), groups=1152, bias=False)\n            (1): BatchNorm2d(1152, eps=1e-05, momentum=0.1, affine=True, track_running_stats=True)\n            (2): SiLU(inplace=True)\n          )\n          (2): SqueezeExcitation(\n            (avgpool): AdaptiveAvgPool2d(output_size=1)\n            (fc1): Conv2d(1152, 48, kernel_size=(1, 1), stride=(1, 1))\n            (fc2): Conv2d(48, 1152, kernel_size=(1, 1), stride=(1, 1))\n            (activation): SiLU(inplace=True)\n            (scale_activation): Sigmoid()\n          )\n          (3): Conv2dNormActivation(\n            (0): Conv2d(1152, 320, kernel_size=(1, 1), stride=(1, 1), bias=False)\n            (1): BatchNorm2d(320, eps=1e-05, momentum=0.1, affine=True, track_running_stats=True)\n          )\n        )\n        (stochastic_depth): StochasticDepth(p=0.1875, mode=row)\n      )\n    )\n    (8): Conv2dNormActivation(\n      (0): Conv2d(320, 1280, kernel_size=(1, 1), stride=(1, 1), bias=False)\n      (1): BatchNorm2d(1280, eps=1e-05, momentum=0.1, affine=True, track_running_stats=True)\n      (2): SiLU(inplace=True)\n    )\n  )\n  (avgpool): AdaptiveAvgPool2d(output_size=1)\n  (classifier): Sequential(\n    (0): Dropout(p=0.2, inplace=True)\n    (1): Linear(in_features=1280, out_features=1000, bias=True)\n  )\n)"
          },
          "metadata": {},
          "execution_count": 10,
          "output_type": "execute_result"
        }
      ],
      "execution_count": null
    },
    {
      "cell_type": "markdown",
      "source": [
        "### 2.1 Adjusting the classifyer to the amount of classes in the baz dataset"
      ],
      "metadata": {
        "id": "zVKq-0UChjqJ"
      }
    },
    {
      "cell_type": "code",
      "source": [
        "# Calling last layer\n",
        "model.classifier = nn.Sequential(\n",
        "    nn.Dropout(p=0.2, inplace=True),\n",
        "    nn.Linear(in_features=1280, out_features=len(class_names)) # Adjusting the out_features to the number of classes\n",
        ")"
      ],
      "metadata": {
        "id": "zQ9p6wMLvadF",
        "azdata_cell_guid": "5d1bd679-ba22-4f82-9d1d-ed8e0bc496c5",
        "language": "python"
      },
      "outputs": [],
      "execution_count": null
    },
    {
      "cell_type": "markdown",
      "source": [
        "### 2.2 Transfer Learning"
      ],
      "metadata": {
        "id": "wzwwDlPUiAcq"
      }
    },
    {
      "cell_type": "code",
      "source": [
        "# Loop through the model's layers\n",
        "for name, param in model.named_parameters():\n",
        "  # If 'classifier' not in name, if so, disable/'freeze' the layer\n",
        "  if 'classifier' not in name:\n",
        "    param.requires_grad = False\n",
        "  print(name, param.requires_grad)"
      ],
      "metadata": {
        "id": "Q5rSGBFrwXE1",
        "azdata_cell_guid": "5de42aa3-6caf-4ba0-8057-fe7d205fffdb",
        "language": "python"
      },
      "outputs": [],
      "execution_count": null
    },
    {
      "cell_type": "markdown",
      "source": [
        "## 3. Training the model"
      ],
      "metadata": {
        "id": "4n51VbQ2ictr"
      }
    },
    {
      "cell_type": "markdown",
      "source": [
        "### 3.1 Define the loss, optimizer and accuracy metric from torchmetrics"
      ],
      "metadata": {
        "id": "BIlAJVu4ifyD"
      }
    },
    {
      "cell_type": "code",
      "source": [
        "# Define loss function for multiclass classification\n",
        "loss_fn = nn.CrossEntropyLoss()\n",
        "# Set up the Adam optimizer along with the Karpathy learning rate\n",
        "optimizer = torch.optim.Adam(model.parameters(), lr=3e-4)\n",
        "\n",
        "# Use accuracy function from torchmetrics\n",
        "accuracy_fn = Accuracy(num_classes=len(class_names))"
      ],
      "metadata": {
        "id": "gmd02o9fT6sF",
        "azdata_cell_guid": "dddc85fb-8ce3-4578-90d6-70c5f0a19ac0",
        "language": "python"
      },
      "outputs": [],
      "execution_count": null
    },
    {
      "cell_type": "markdown",
      "source": [
        "### 3.2 Training and testing loop"
      ],
      "metadata": {
        "id": "PKNdpq8wi5Hj"
      }
    },
    {
      "cell_type": "code",
      "source": [
        "# Import tqdm for progress bar\n",
        "from tqdm.auto import tqdm\n",
        "\n",
        "# Create training and testing loop\n",
        "for epoch in tqdm(range(config['epochs'])):\n",
        "    print(f\"Epoch: {epoch}\\n-------\")\n",
        "    ### Training\n",
        "    train_loss = 0\n",
        "    # Add a loop to loop through training batches\n",
        "    for batch, (X, y) in enumerate(train_dataloader):\n",
        "        # Send data to device\n",
        "        X, y = X.to(device), y.to(device)\n",
        "        # Send model to device\n",
        "        model.to(device)\n",
        "        # Enable training mode\n",
        "        model.train()\n",
        "        # 1. Forward pass\n",
        "        y_pred = model(X)\n",
        "\n",
        "        # 2. Calculate loss (per batch)\n",
        "        loss = loss_fn(y_pred, y)\n",
        "        train_loss += loss # accumulatively add up the loss per epoch\n",
        "\n",
        "        # 3. Optimizer zero grad\n",
        "        optimizer.zero_grad()\n",
        "\n",
        "        # 4. Loss backward\n",
        "        loss.backward()\n",
        "\n",
        "        # 5. Optimizer step\n",
        "        optimizer.step()\n",
        "\n",
        "        # Print out how many samples have been seen\n",
        "        print(f\"Looked at {batch * len(X)}/{len(train_dataloader.dataset)} samples\")\n",
        "\n",
        "    # Divide total train loss by length of train dataloader (average loss per batch per epoch)\n",
        "    train_loss /= len(train_dataloader)\n",
        "\n",
        "    ### Testing\n",
        "    # Setup variables for accumulatively adding up loss and accuracy\n",
        "    test_loss, test_acc = 0, 0\n",
        "    # Put model in evaluation mode\n",
        "    model.eval()\n",
        "    with torch.inference_mode():\n",
        "        for X, y in test_dataloader:\n",
        "            X, y = X.to(device), y.to(device)\n",
        "            # 1. Forward pass\n",
        "            test_pred = model(X)\n",
        "\n",
        "            # 2. Calculate loss (accumatively)\n",
        "            test_loss += loss_fn(test_pred, y) # accumulatively add up the loss per epoch\n",
        "\n",
        "            # 3. Calculate accuracy (preds need to be same as y_true)\n",
        "            test_acc += accuracy_fn(test_pred.argmax(dim=1).cpu(), y.cpu())\n",
        "\n",
        "        # Calculations on test metrics need to happen inside torch.inference_mode()\n",
        "        # Divide total test loss by length of test dataloader (per batch)\n",
        "        test_loss /= len(test_dataloader)\n",
        "\n",
        "        # Divide total accuracy by length of test dataloader (per batch)\n",
        "        test_acc /= len(test_dataloader)\n",
        "\n",
        "    # Log results in wandb environment\n",
        "    wandb.log({'train_loss':train_loss, 'test_loss':test_loss, 'test_accuracy':test_acc})\n",
        "    ## Print out the results\n",
        "    print(f\"\\nTrain loss: {train_loss:.5f} | Test loss: {test_loss:.5f}, Test acc: {test_acc:.2f}\\n\")\n",
        "\n",
        "wandb.finish()"
      ],
      "metadata": {
        "id": "j2FdkatZUmbC",
        "azdata_cell_guid": "9d2bd328-8158-413b-ae74-5ae1b140401b",
        "language": "python",
        "colab": {
          "referenced_widgets": [
            "bc3a2d19253c4df3b4832c3b1fe918e1",
            "1a0e37f356cb4aeb9e5973182e58aa50"
          ]
        },
        "outputId": "e4671cdb-ea79-4ee9-b0a6-9963095221dc"
      },
      "outputs": [
        {
          "data": {
            "text/plain": "  0%|          | 0/50 [00:00<?, ?it/s]",
            "application/vnd.jupyter.widget-view+json": {
              "version_major": 2,
              "version_minor": 0,
              "model_id": "bc3a2d19253c4df3b4832c3b1fe918e1"
            }
          },
          "metadata": {},
          "output_type": "display_data"
        },
        {
          "name": "stdout",
          "text": "Epoch: 0\n-------\n",
          "output_type": "stream"
        },
        {
          "name": "stdout",
          "text": "Looked at 0/503 samples\n",
          "output_type": "stream"
        },
        {
          "name": "stdout",
          "text": "Looked at 32/503 samples\n",
          "output_type": "stream"
        },
        {
          "name": "stdout",
          "text": "Looked at 64/503 samples\n",
          "output_type": "stream"
        },
        {
          "name": "stdout",
          "text": "Looked at 96/503 samples\n",
          "output_type": "stream"
        },
        {
          "name": "stdout",
          "text": "Looked at 128/503 samples\n",
          "output_type": "stream"
        },
        {
          "name": "stdout",
          "text": "Looked at 160/503 samples\n",
          "output_type": "stream"
        },
        {
          "name": "stdout",
          "text": "Looked at 192/503 samples\n",
          "output_type": "stream"
        },
        {
          "name": "stdout",
          "text": "Looked at 224/503 samples\n",
          "output_type": "stream"
        },
        {
          "name": "stdout",
          "text": "Looked at 256/503 samples\n",
          "output_type": "stream"
        },
        {
          "name": "stdout",
          "text": "Looked at 288/503 samples\n",
          "output_type": "stream"
        },
        {
          "name": "stdout",
          "text": "Looked at 320/503 samples\n",
          "output_type": "stream"
        },
        {
          "name": "stdout",
          "text": "Looked at 352/503 samples\n",
          "output_type": "stream"
        },
        {
          "name": "stdout",
          "text": "Looked at 384/503 samples\n",
          "output_type": "stream"
        },
        {
          "name": "stdout",
          "text": "Looked at 416/503 samples\n",
          "output_type": "stream"
        },
        {
          "name": "stdout",
          "text": "Looked at 448/503 samples\n",
          "output_type": "stream"
        },
        {
          "name": "stdout",
          "text": "Looked at 345/503 samples\n",
          "output_type": "stream"
        },
        {
          "name": "stdout",
          "text": "\nTrain loss: 2.08404 | Test loss: 2.04446, Test acc: 0.05\n\nEpoch: 1\n-------\n",
          "output_type": "stream"
        },
        {
          "name": "stdout",
          "text": "Looked at 0/503 samples\n",
          "output_type": "stream"
        },
        {
          "name": "stdout",
          "text": "Looked at 32/503 samples\n",
          "output_type": "stream"
        },
        {
          "name": "stdout",
          "text": "Looked at 64/503 samples\n",
          "output_type": "stream"
        },
        {
          "name": "stdout",
          "text": "Looked at 96/503 samples\n",
          "output_type": "stream"
        },
        {
          "name": "stdout",
          "text": "Looked at 128/503 samples\n",
          "output_type": "stream"
        },
        {
          "name": "stdout",
          "text": "Looked at 160/503 samples\n",
          "output_type": "stream"
        },
        {
          "name": "stdout",
          "text": "Looked at 192/503 samples\n",
          "output_type": "stream"
        },
        {
          "name": "stdout",
          "text": "Looked at 224/503 samples\n",
          "output_type": "stream"
        },
        {
          "name": "stdout",
          "text": "Looked at 256/503 samples\n",
          "output_type": "stream"
        },
        {
          "name": "stdout",
          "text": "Looked at 288/503 samples\n",
          "output_type": "stream"
        },
        {
          "name": "stdout",
          "text": "Looked at 320/503 samples\n",
          "output_type": "stream"
        },
        {
          "name": "stdout",
          "text": "Looked at 352/503 samples\n",
          "output_type": "stream"
        },
        {
          "name": "stdout",
          "text": "Looked at 384/503 samples\n",
          "output_type": "stream"
        },
        {
          "name": "stdout",
          "text": "Looked at 416/503 samples\n",
          "output_type": "stream"
        },
        {
          "name": "stdout",
          "text": "Looked at 448/503 samples\n",
          "output_type": "stream"
        },
        {
          "name": "stdout",
          "text": "Looked at 345/503 samples\n",
          "output_type": "stream"
        },
        {
          "name": "stdout",
          "text": "\nTrain loss: 1.98299 | Test loss: 1.97450, Test acc: 0.09\n\nEpoch: 2\n-------\n",
          "output_type": "stream"
        },
        {
          "name": "stdout",
          "text": "Looked at 0/503 samples\n",
          "output_type": "stream"
        },
        {
          "name": "stdout",
          "text": "Looked at 32/503 samples\n",
          "output_type": "stream"
        },
        {
          "name": "stdout",
          "text": "Looked at 64/503 samples\n",
          "output_type": "stream"
        },
        {
          "name": "stdout",
          "text": "Looked at 96/503 samples\n",
          "output_type": "stream"
        },
        {
          "name": "stdout",
          "text": "Looked at 128/503 samples\n",
          "output_type": "stream"
        },
        {
          "name": "stdout",
          "text": "Looked at 160/503 samples\n",
          "output_type": "stream"
        },
        {
          "name": "stdout",
          "text": "Looked at 192/503 samples\n",
          "output_type": "stream"
        },
        {
          "name": "stdout",
          "text": "Looked at 224/503 samples\n",
          "output_type": "stream"
        },
        {
          "name": "stdout",
          "text": "Looked at 256/503 samples\n",
          "output_type": "stream"
        },
        {
          "name": "stdout",
          "text": "Looked at 288/503 samples\n",
          "output_type": "stream"
        },
        {
          "name": "stdout",
          "text": "Looked at 320/503 samples\n",
          "output_type": "stream"
        },
        {
          "name": "stdout",
          "text": "Looked at 352/503 samples\n",
          "output_type": "stream"
        },
        {
          "name": "stdout",
          "text": "Looked at 384/503 samples\n",
          "output_type": "stream"
        },
        {
          "name": "stdout",
          "text": "Looked at 416/503 samples\n",
          "output_type": "stream"
        },
        {
          "name": "stdout",
          "text": "Looked at 448/503 samples\n",
          "output_type": "stream"
        },
        {
          "name": "stdout",
          "text": "Looked at 345/503 samples\n",
          "output_type": "stream"
        },
        {
          "name": "stdout",
          "text": "\nTrain loss: 1.89864 | Test loss: 1.93401, Test acc: 0.09\n\nEpoch: 3\n-------\n",
          "output_type": "stream"
        },
        {
          "name": "stdout",
          "text": "Looked at 0/503 samples\n",
          "output_type": "stream"
        },
        {
          "name": "stdout",
          "text": "Looked at 32/503 samples\n",
          "output_type": "stream"
        },
        {
          "name": "stdout",
          "text": "Looked at 64/503 samples\n",
          "output_type": "stream"
        },
        {
          "name": "stdout",
          "text": "Looked at 96/503 samples\n",
          "output_type": "stream"
        },
        {
          "name": "stdout",
          "text": "Looked at 128/503 samples\n",
          "output_type": "stream"
        },
        {
          "name": "stdout",
          "text": "Looked at 160/503 samples\n",
          "output_type": "stream"
        },
        {
          "name": "stdout",
          "text": "Looked at 192/503 samples\n",
          "output_type": "stream"
        },
        {
          "name": "stdout",
          "text": "Looked at 224/503 samples\n",
          "output_type": "stream"
        },
        {
          "name": "stdout",
          "text": "Looked at 256/503 samples\n",
          "output_type": "stream"
        },
        {
          "name": "stdout",
          "text": "Looked at 288/503 samples\n",
          "output_type": "stream"
        },
        {
          "name": "stdout",
          "text": "Looked at 320/503 samples\n",
          "output_type": "stream"
        },
        {
          "name": "stdout",
          "text": "Looked at 352/503 samples\n",
          "output_type": "stream"
        },
        {
          "name": "stdout",
          "text": "Looked at 384/503 samples\n",
          "output_type": "stream"
        },
        {
          "name": "stdout",
          "text": "Looked at 416/503 samples\n",
          "output_type": "stream"
        },
        {
          "name": "stdout",
          "text": "Looked at 448/503 samples\n",
          "output_type": "stream"
        },
        {
          "name": "stdout",
          "text": "Looked at 345/503 samples\n",
          "output_type": "stream"
        },
        {
          "name": "stdout",
          "text": "\nTrain loss: 1.82698 | Test loss: 1.89206, Test acc: 0.10\n\nEpoch: 4\n-------\n",
          "output_type": "stream"
        },
        {
          "name": "stdout",
          "text": "Looked at 0/503 samples\n",
          "output_type": "stream"
        },
        {
          "name": "stdout",
          "text": "Looked at 32/503 samples\n",
          "output_type": "stream"
        },
        {
          "name": "stdout",
          "text": "Looked at 64/503 samples\n",
          "output_type": "stream"
        },
        {
          "name": "stdout",
          "text": "Looked at 96/503 samples\n",
          "output_type": "stream"
        },
        {
          "name": "stdout",
          "text": "Looked at 128/503 samples\n",
          "output_type": "stream"
        },
        {
          "name": "stdout",
          "text": "Looked at 160/503 samples\n",
          "output_type": "stream"
        },
        {
          "name": "stdout",
          "text": "Looked at 192/503 samples\n",
          "output_type": "stream"
        },
        {
          "name": "stdout",
          "text": "Looked at 224/503 samples\n",
          "output_type": "stream"
        },
        {
          "name": "stdout",
          "text": "Looked at 256/503 samples\n",
          "output_type": "stream"
        },
        {
          "name": "stdout",
          "text": "Looked at 288/503 samples\n",
          "output_type": "stream"
        },
        {
          "name": "stdout",
          "text": "Looked at 320/503 samples\n",
          "output_type": "stream"
        },
        {
          "name": "stdout",
          "text": "Looked at 352/503 samples\n",
          "output_type": "stream"
        },
        {
          "name": "stdout",
          "text": "Looked at 384/503 samples\n",
          "output_type": "stream"
        },
        {
          "name": "stdout",
          "text": "Looked at 416/503 samples\n",
          "output_type": "stream"
        },
        {
          "name": "stdout",
          "text": "Looked at 448/503 samples\n",
          "output_type": "stream"
        },
        {
          "name": "stdout",
          "text": "Looked at 345/503 samples\n",
          "output_type": "stream"
        },
        {
          "name": "stdout",
          "text": "\nTrain loss: 1.76708 | Test loss: 1.84868, Test acc: 0.13\n\nEpoch: 5\n-------\n",
          "output_type": "stream"
        },
        {
          "name": "stdout",
          "text": "Looked at 0/503 samples\n",
          "output_type": "stream"
        },
        {
          "name": "stdout",
          "text": "Looked at 32/503 samples\n",
          "output_type": "stream"
        },
        {
          "name": "stdout",
          "text": "Looked at 64/503 samples\n",
          "output_type": "stream"
        },
        {
          "name": "stdout",
          "text": "Looked at 96/503 samples\n",
          "output_type": "stream"
        },
        {
          "name": "stdout",
          "text": "Looked at 128/503 samples\n",
          "output_type": "stream"
        },
        {
          "name": "stdout",
          "text": "Looked at 160/503 samples\n",
          "output_type": "stream"
        },
        {
          "name": "stdout",
          "text": "Looked at 192/503 samples\n",
          "output_type": "stream"
        },
        {
          "name": "stdout",
          "text": "Looked at 224/503 samples\n",
          "output_type": "stream"
        },
        {
          "name": "stdout",
          "text": "Looked at 256/503 samples\n",
          "output_type": "stream"
        },
        {
          "name": "stdout",
          "text": "Looked at 288/503 samples\n",
          "output_type": "stream"
        },
        {
          "name": "stdout",
          "text": "Looked at 320/503 samples\n",
          "output_type": "stream"
        },
        {
          "name": "stdout",
          "text": "Looked at 352/503 samples\n",
          "output_type": "stream"
        },
        {
          "name": "stdout",
          "text": "Looked at 384/503 samples\n",
          "output_type": "stream"
        },
        {
          "name": "stdout",
          "text": "Looked at 416/503 samples\n",
          "output_type": "stream"
        },
        {
          "name": "stdout",
          "text": "Looked at 448/503 samples\n",
          "output_type": "stream"
        },
        {
          "name": "stdout",
          "text": "Looked at 345/503 samples\n",
          "output_type": "stream"
        },
        {
          "name": "stdout",
          "text": "\nTrain loss: 1.70866 | Test loss: 1.80352, Test acc: 0.13\n\nEpoch: 6\n-------\n",
          "output_type": "stream"
        },
        {
          "name": "stdout",
          "text": "Looked at 0/503 samples\n",
          "output_type": "stream"
        },
        {
          "name": "stdout",
          "text": "Looked at 32/503 samples\n",
          "output_type": "stream"
        },
        {
          "name": "stdout",
          "text": "Looked at 64/503 samples\n",
          "output_type": "stream"
        },
        {
          "name": "stdout",
          "text": "Looked at 96/503 samples\n",
          "output_type": "stream"
        },
        {
          "name": "stdout",
          "text": "Looked at 128/503 samples\n",
          "output_type": "stream"
        },
        {
          "name": "stdout",
          "text": "Looked at 160/503 samples\n",
          "output_type": "stream"
        },
        {
          "name": "stdout",
          "text": "Looked at 192/503 samples\n",
          "output_type": "stream"
        },
        {
          "name": "stdout",
          "text": "Looked at 224/503 samples\n",
          "output_type": "stream"
        },
        {
          "name": "stdout",
          "text": "Looked at 256/503 samples\n",
          "output_type": "stream"
        },
        {
          "name": "stdout",
          "text": "Looked at 288/503 samples\n",
          "output_type": "stream"
        },
        {
          "name": "stdout",
          "text": "Looked at 320/503 samples\n",
          "output_type": "stream"
        },
        {
          "name": "stdout",
          "text": "Looked at 352/503 samples\n",
          "output_type": "stream"
        },
        {
          "name": "stdout",
          "text": "Looked at 384/503 samples\n",
          "output_type": "stream"
        },
        {
          "name": "stdout",
          "text": "Looked at 416/503 samples\n",
          "output_type": "stream"
        },
        {
          "name": "stdout",
          "text": "Looked at 448/503 samples\n",
          "output_type": "stream"
        },
        {
          "name": "stdout",
          "text": "Looked at 345/503 samples\n",
          "output_type": "stream"
        },
        {
          "name": "stdout",
          "text": "\nTrain loss: 1.64363 | Test loss: 1.76354, Test acc: 0.12\n\nEpoch: 7\n-------\n",
          "output_type": "stream"
        },
        {
          "name": "stdout",
          "text": "Looked at 0/503 samples\n",
          "output_type": "stream"
        },
        {
          "name": "stdout",
          "text": "Looked at 32/503 samples\n",
          "output_type": "stream"
        },
        {
          "name": "stdout",
          "text": "Looked at 64/503 samples\n",
          "output_type": "stream"
        },
        {
          "name": "stdout",
          "text": "Looked at 96/503 samples\n",
          "output_type": "stream"
        },
        {
          "name": "stdout",
          "text": "Looked at 128/503 samples\n",
          "output_type": "stream"
        },
        {
          "name": "stdout",
          "text": "Looked at 160/503 samples\n",
          "output_type": "stream"
        },
        {
          "name": "stdout",
          "text": "Looked at 192/503 samples\n",
          "output_type": "stream"
        },
        {
          "name": "stdout",
          "text": "Looked at 224/503 samples\n",
          "output_type": "stream"
        },
        {
          "name": "stdout",
          "text": "Looked at 256/503 samples\n",
          "output_type": "stream"
        },
        {
          "name": "stdout",
          "text": "Looked at 288/503 samples\n",
          "output_type": "stream"
        },
        {
          "name": "stdout",
          "text": "Looked at 320/503 samples\n",
          "output_type": "stream"
        },
        {
          "name": "stdout",
          "text": "Looked at 352/503 samples\n",
          "output_type": "stream"
        },
        {
          "name": "stdout",
          "text": "Looked at 384/503 samples\n",
          "output_type": "stream"
        },
        {
          "name": "stdout",
          "text": "Looked at 416/503 samples\n",
          "output_type": "stream"
        },
        {
          "name": "stdout",
          "text": "Looked at 448/503 samples\n",
          "output_type": "stream"
        },
        {
          "name": "stdout",
          "text": "Looked at 345/503 samples\n",
          "output_type": "stream"
        },
        {
          "name": "stdout",
          "text": "\nTrain loss: 1.61154 | Test loss: 1.71306, Test acc: 0.13\n\nEpoch: 8\n-------\n",
          "output_type": "stream"
        },
        {
          "name": "stdout",
          "text": "Looked at 0/503 samples\n",
          "output_type": "stream"
        },
        {
          "name": "stdout",
          "text": "Looked at 32/503 samples\n",
          "output_type": "stream"
        },
        {
          "name": "stdout",
          "text": "Looked at 64/503 samples\n",
          "output_type": "stream"
        },
        {
          "name": "stdout",
          "text": "Looked at 96/503 samples\n",
          "output_type": "stream"
        },
        {
          "name": "stdout",
          "text": "Looked at 128/503 samples\n",
          "output_type": "stream"
        },
        {
          "name": "stdout",
          "text": "Looked at 160/503 samples\n",
          "output_type": "stream"
        },
        {
          "name": "stdout",
          "text": "Looked at 192/503 samples\n",
          "output_type": "stream"
        },
        {
          "name": "stdout",
          "text": "Looked at 224/503 samples\n",
          "output_type": "stream"
        },
        {
          "name": "stdout",
          "text": "Looked at 256/503 samples\n",
          "output_type": "stream"
        },
        {
          "name": "stdout",
          "text": "Looked at 288/503 samples\n",
          "output_type": "stream"
        },
        {
          "name": "stdout",
          "text": "Looked at 320/503 samples\n",
          "output_type": "stream"
        },
        {
          "name": "stdout",
          "text": "Looked at 352/503 samples\n",
          "output_type": "stream"
        },
        {
          "name": "stdout",
          "text": "Looked at 384/503 samples\n",
          "output_type": "stream"
        },
        {
          "name": "stdout",
          "text": "Looked at 416/503 samples\n",
          "output_type": "stream"
        },
        {
          "name": "stdout",
          "text": "Looked at 448/503 samples\n",
          "output_type": "stream"
        },
        {
          "name": "stdout",
          "text": "Looked at 345/503 samples\n",
          "output_type": "stream"
        },
        {
          "name": "stdout",
          "text": "\nTrain loss: 1.58438 | Test loss: 1.76113, Test acc: 0.11\n\nEpoch: 9\n-------\n",
          "output_type": "stream"
        },
        {
          "name": "stdout",
          "text": "Looked at 0/503 samples\n",
          "output_type": "stream"
        },
        {
          "name": "stdout",
          "text": "Looked at 32/503 samples\n",
          "output_type": "stream"
        },
        {
          "name": "stdout",
          "text": "Looked at 64/503 samples\n",
          "output_type": "stream"
        },
        {
          "name": "stdout",
          "text": "Looked at 96/503 samples\n",
          "output_type": "stream"
        },
        {
          "name": "stdout",
          "text": "Looked at 128/503 samples\n",
          "output_type": "stream"
        },
        {
          "name": "stdout",
          "text": "Looked at 160/503 samples\n",
          "output_type": "stream"
        },
        {
          "name": "stdout",
          "text": "Looked at 192/503 samples\n",
          "output_type": "stream"
        },
        {
          "name": "stdout",
          "text": "Looked at 224/503 samples\n",
          "output_type": "stream"
        },
        {
          "name": "stdout",
          "text": "Looked at 256/503 samples\n",
          "output_type": "stream"
        },
        {
          "name": "stdout",
          "text": "Looked at 288/503 samples\n",
          "output_type": "stream"
        },
        {
          "name": "stdout",
          "text": "Looked at 320/503 samples\n",
          "output_type": "stream"
        },
        {
          "name": "stdout",
          "text": "Looked at 352/503 samples\n",
          "output_type": "stream"
        },
        {
          "name": "stdout",
          "text": "Looked at 384/503 samples\n",
          "output_type": "stream"
        },
        {
          "name": "stdout",
          "text": "Looked at 416/503 samples\n",
          "output_type": "stream"
        },
        {
          "name": "stdout",
          "text": "Looked at 448/503 samples\n",
          "output_type": "stream"
        },
        {
          "name": "stdout",
          "text": "Looked at 345/503 samples\n",
          "output_type": "stream"
        },
        {
          "name": "stdout",
          "text": "\nTrain loss: 1.53129 | Test loss: 1.66669, Test acc: 0.13\n\nEpoch: 10\n-------\n",
          "output_type": "stream"
        },
        {
          "name": "stdout",
          "text": "Looked at 0/503 samples\n",
          "output_type": "stream"
        },
        {
          "name": "stdout",
          "text": "Looked at 32/503 samples\n",
          "output_type": "stream"
        },
        {
          "name": "stdout",
          "text": "Looked at 64/503 samples\n",
          "output_type": "stream"
        },
        {
          "name": "stdout",
          "text": "Looked at 96/503 samples\n",
          "output_type": "stream"
        },
        {
          "name": "stdout",
          "text": "Looked at 128/503 samples\n",
          "output_type": "stream"
        },
        {
          "name": "stdout",
          "text": "Looked at 160/503 samples\n",
          "output_type": "stream"
        },
        {
          "name": "stdout",
          "text": "Looked at 192/503 samples\n",
          "output_type": "stream"
        },
        {
          "name": "stdout",
          "text": "Looked at 224/503 samples\n",
          "output_type": "stream"
        },
        {
          "name": "stdout",
          "text": "Looked at 256/503 samples\n",
          "output_type": "stream"
        },
        {
          "name": "stdout",
          "text": "Looked at 288/503 samples\n",
          "output_type": "stream"
        },
        {
          "name": "stdout",
          "text": "Looked at 320/503 samples\n",
          "output_type": "stream"
        },
        {
          "name": "stdout",
          "text": "Looked at 352/503 samples\n",
          "output_type": "stream"
        },
        {
          "name": "stdout",
          "text": "Looked at 384/503 samples\n",
          "output_type": "stream"
        },
        {
          "name": "stdout",
          "text": "Looked at 416/503 samples\n",
          "output_type": "stream"
        },
        {
          "name": "stdout",
          "text": "Looked at 448/503 samples\n",
          "output_type": "stream"
        },
        {
          "name": "stdout",
          "text": "Looked at 345/503 samples\n",
          "output_type": "stream"
        },
        {
          "name": "stdout",
          "text": "\nTrain loss: 1.49461 | Test loss: 1.66257, Test acc: 0.11\n\nEpoch: 11\n-------\n",
          "output_type": "stream"
        },
        {
          "name": "stdout",
          "text": "Looked at 0/503 samples\n",
          "output_type": "stream"
        },
        {
          "name": "stdout",
          "text": "Looked at 32/503 samples\n",
          "output_type": "stream"
        },
        {
          "name": "stdout",
          "text": "Looked at 64/503 samples\n",
          "output_type": "stream"
        },
        {
          "name": "stdout",
          "text": "Looked at 96/503 samples\n",
          "output_type": "stream"
        },
        {
          "name": "stdout",
          "text": "Looked at 128/503 samples\n",
          "output_type": "stream"
        },
        {
          "name": "stdout",
          "text": "Looked at 160/503 samples\n",
          "output_type": "stream"
        },
        {
          "name": "stdout",
          "text": "Looked at 192/503 samples\n",
          "output_type": "stream"
        },
        {
          "name": "stdout",
          "text": "Looked at 224/503 samples\n",
          "output_type": "stream"
        },
        {
          "name": "stdout",
          "text": "Looked at 256/503 samples\n",
          "output_type": "stream"
        },
        {
          "name": "stdout",
          "text": "Looked at 288/503 samples\n",
          "output_type": "stream"
        },
        {
          "name": "stdout",
          "text": "Looked at 320/503 samples\n",
          "output_type": "stream"
        },
        {
          "name": "stdout",
          "text": "Looked at 352/503 samples\n",
          "output_type": "stream"
        },
        {
          "name": "stdout",
          "text": "Looked at 384/503 samples\n",
          "output_type": "stream"
        },
        {
          "name": "stdout",
          "text": "Looked at 416/503 samples\n",
          "output_type": "stream"
        },
        {
          "name": "stdout",
          "text": "Looked at 448/503 samples\n",
          "output_type": "stream"
        },
        {
          "name": "stdout",
          "text": "Looked at 345/503 samples\n",
          "output_type": "stream"
        },
        {
          "name": "stdout",
          "text": "\nTrain loss: 1.45846 | Test loss: 1.62697, Test acc: 0.12\n\nEpoch: 12\n-------\n",
          "output_type": "stream"
        },
        {
          "name": "stdout",
          "text": "Looked at 0/503 samples\n",
          "output_type": "stream"
        },
        {
          "name": "stdout",
          "text": "Looked at 32/503 samples\n",
          "output_type": "stream"
        },
        {
          "name": "stdout",
          "text": "Looked at 64/503 samples\n",
          "output_type": "stream"
        },
        {
          "name": "stdout",
          "text": "Looked at 96/503 samples\n",
          "output_type": "stream"
        },
        {
          "name": "stdout",
          "text": "Looked at 128/503 samples\n",
          "output_type": "stream"
        },
        {
          "name": "stdout",
          "text": "Looked at 160/503 samples\n",
          "output_type": "stream"
        },
        {
          "name": "stdout",
          "text": "Looked at 192/503 samples\n",
          "output_type": "stream"
        },
        {
          "name": "stdout",
          "text": "Looked at 224/503 samples\n",
          "output_type": "stream"
        },
        {
          "name": "stdout",
          "text": "Looked at 256/503 samples\n",
          "output_type": "stream"
        },
        {
          "name": "stdout",
          "text": "Looked at 288/503 samples\n",
          "output_type": "stream"
        },
        {
          "name": "stdout",
          "text": "Looked at 320/503 samples\n",
          "output_type": "stream"
        },
        {
          "name": "stdout",
          "text": "Looked at 352/503 samples\n",
          "output_type": "stream"
        },
        {
          "name": "stdout",
          "text": "Looked at 384/503 samples\n",
          "output_type": "stream"
        },
        {
          "name": "stdout",
          "text": "Looked at 416/503 samples\n",
          "output_type": "stream"
        },
        {
          "name": "stdout",
          "text": "Looked at 448/503 samples\n",
          "output_type": "stream"
        },
        {
          "name": "stdout",
          "text": "Looked at 345/503 samples\n",
          "output_type": "stream"
        },
        {
          "name": "stdout",
          "text": "\nTrain loss: 1.43285 | Test loss: 1.62644, Test acc: 0.13\n\nEpoch: 13\n-------\n",
          "output_type": "stream"
        },
        {
          "name": "stdout",
          "text": "Looked at 0/503 samples\n",
          "output_type": "stream"
        },
        {
          "name": "stdout",
          "text": "Looked at 32/503 samples\n",
          "output_type": "stream"
        },
        {
          "name": "stdout",
          "text": "Looked at 64/503 samples\n",
          "output_type": "stream"
        },
        {
          "name": "stdout",
          "text": "Looked at 96/503 samples\n",
          "output_type": "stream"
        },
        {
          "name": "stdout",
          "text": "Looked at 128/503 samples\n",
          "output_type": "stream"
        },
        {
          "name": "stdout",
          "text": "Looked at 160/503 samples\n",
          "output_type": "stream"
        },
        {
          "name": "stdout",
          "text": "Looked at 192/503 samples\n",
          "output_type": "stream"
        },
        {
          "name": "stdout",
          "text": "Looked at 224/503 samples\n",
          "output_type": "stream"
        },
        {
          "name": "stdout",
          "text": "Looked at 256/503 samples\n",
          "output_type": "stream"
        },
        {
          "name": "stdout",
          "text": "Looked at 288/503 samples\n",
          "output_type": "stream"
        },
        {
          "name": "stdout",
          "text": "Looked at 320/503 samples\n",
          "output_type": "stream"
        },
        {
          "name": "stdout",
          "text": "Looked at 352/503 samples\n",
          "output_type": "stream"
        },
        {
          "name": "stdout",
          "text": "Looked at 384/503 samples\n",
          "output_type": "stream"
        },
        {
          "name": "stdout",
          "text": "Looked at 416/503 samples\n",
          "output_type": "stream"
        },
        {
          "name": "stdout",
          "text": "Looked at 448/503 samples\n",
          "output_type": "stream"
        },
        {
          "name": "stdout",
          "text": "Looked at 345/503 samples\n",
          "output_type": "stream"
        },
        {
          "name": "stdout",
          "text": "\nTrain loss: 1.41989 | Test loss: 1.64006, Test acc: 0.12\n\nEpoch: 14\n-------\n",
          "output_type": "stream"
        },
        {
          "name": "stdout",
          "text": "Looked at 0/503 samples\n",
          "output_type": "stream"
        },
        {
          "name": "stdout",
          "text": "Looked at 32/503 samples\n",
          "output_type": "stream"
        },
        {
          "name": "stdout",
          "text": "Looked at 64/503 samples\n",
          "output_type": "stream"
        },
        {
          "name": "stdout",
          "text": "Looked at 96/503 samples\n",
          "output_type": "stream"
        },
        {
          "name": "stdout",
          "text": "Looked at 128/503 samples\n",
          "output_type": "stream"
        },
        {
          "name": "stdout",
          "text": "Looked at 160/503 samples\n",
          "output_type": "stream"
        },
        {
          "name": "stdout",
          "text": "Looked at 192/503 samples\n",
          "output_type": "stream"
        },
        {
          "name": "stdout",
          "text": "Looked at 224/503 samples\n",
          "output_type": "stream"
        },
        {
          "name": "stdout",
          "text": "Looked at 256/503 samples\n",
          "output_type": "stream"
        },
        {
          "name": "stdout",
          "text": "Looked at 288/503 samples\n",
          "output_type": "stream"
        },
        {
          "name": "stdout",
          "text": "Looked at 320/503 samples\n",
          "output_type": "stream"
        },
        {
          "name": "stdout",
          "text": "Looked at 352/503 samples\n",
          "output_type": "stream"
        },
        {
          "name": "stdout",
          "text": "Looked at 384/503 samples\n",
          "output_type": "stream"
        },
        {
          "name": "stdout",
          "text": "Looked at 416/503 samples\n",
          "output_type": "stream"
        },
        {
          "name": "stdout",
          "text": "Looked at 448/503 samples\n",
          "output_type": "stream"
        },
        {
          "name": "stdout",
          "text": "Looked at 345/503 samples\n",
          "output_type": "stream"
        },
        {
          "name": "stdout",
          "text": "\nTrain loss: 1.34979 | Test loss: 1.60710, Test acc: 0.13\n\nEpoch: 15\n-------\n",
          "output_type": "stream"
        },
        {
          "name": "stdout",
          "text": "Looked at 0/503 samples\n",
          "output_type": "stream"
        },
        {
          "name": "stdout",
          "text": "Looked at 32/503 samples\n",
          "output_type": "stream"
        },
        {
          "name": "stdout",
          "text": "Looked at 64/503 samples\n",
          "output_type": "stream"
        },
        {
          "name": "stdout",
          "text": "Looked at 96/503 samples\n",
          "output_type": "stream"
        },
        {
          "name": "stdout",
          "text": "Looked at 128/503 samples\n",
          "output_type": "stream"
        },
        {
          "name": "stdout",
          "text": "Looked at 160/503 samples\n",
          "output_type": "stream"
        },
        {
          "name": "stdout",
          "text": "Looked at 192/503 samples\n",
          "output_type": "stream"
        },
        {
          "name": "stdout",
          "text": "Looked at 224/503 samples\n",
          "output_type": "stream"
        },
        {
          "name": "stdout",
          "text": "Looked at 256/503 samples\n",
          "output_type": "stream"
        },
        {
          "name": "stdout",
          "text": "Looked at 288/503 samples\n",
          "output_type": "stream"
        },
        {
          "name": "stdout",
          "text": "Looked at 320/503 samples\n",
          "output_type": "stream"
        },
        {
          "name": "stdout",
          "text": "Looked at 352/503 samples\n",
          "output_type": "stream"
        },
        {
          "name": "stdout",
          "text": "Looked at 384/503 samples\n",
          "output_type": "stream"
        },
        {
          "name": "stdout",
          "text": "Looked at 416/503 samples\n",
          "output_type": "stream"
        },
        {
          "name": "stdout",
          "text": "Looked at 448/503 samples\n",
          "output_type": "stream"
        },
        {
          "name": "stdout",
          "text": "Looked at 345/503 samples\n",
          "output_type": "stream"
        },
        {
          "name": "stdout",
          "text": "\nTrain loss: 1.33748 | Test loss: 1.55241, Test acc: 0.14\n\nEpoch: 16\n-------\n",
          "output_type": "stream"
        },
        {
          "name": "stdout",
          "text": "Looked at 0/503 samples\n",
          "output_type": "stream"
        },
        {
          "name": "stdout",
          "text": "Looked at 32/503 samples\n",
          "output_type": "stream"
        },
        {
          "name": "stdout",
          "text": "Looked at 64/503 samples\n",
          "output_type": "stream"
        },
        {
          "name": "stdout",
          "text": "Looked at 96/503 samples\n",
          "output_type": "stream"
        },
        {
          "name": "stdout",
          "text": "Looked at 128/503 samples\n",
          "output_type": "stream"
        },
        {
          "name": "stdout",
          "text": "Looked at 160/503 samples\n",
          "output_type": "stream"
        },
        {
          "name": "stdout",
          "text": "Looked at 192/503 samples\n",
          "output_type": "stream"
        },
        {
          "name": "stdout",
          "text": "Looked at 224/503 samples\n",
          "output_type": "stream"
        },
        {
          "name": "stdout",
          "text": "Looked at 256/503 samples\n",
          "output_type": "stream"
        },
        {
          "name": "stdout",
          "text": "Looked at 288/503 samples\n",
          "output_type": "stream"
        },
        {
          "name": "stdout",
          "text": "Looked at 320/503 samples\n",
          "output_type": "stream"
        },
        {
          "name": "stdout",
          "text": "Looked at 352/503 samples\n",
          "output_type": "stream"
        },
        {
          "name": "stdout",
          "text": "Looked at 384/503 samples\n",
          "output_type": "stream"
        },
        {
          "name": "stdout",
          "text": "Looked at 416/503 samples\n",
          "output_type": "stream"
        },
        {
          "name": "stdout",
          "text": "Looked at 448/503 samples\n",
          "output_type": "stream"
        },
        {
          "name": "stdout",
          "text": "Looked at 345/503 samples\n",
          "output_type": "stream"
        },
        {
          "name": "stdout",
          "text": "\nTrain loss: 1.34328 | Test loss: 1.56417, Test acc: 0.13\n\nEpoch: 17\n-------\n",
          "output_type": "stream"
        },
        {
          "name": "stdout",
          "text": "Looked at 0/503 samples\n",
          "output_type": "stream"
        },
        {
          "name": "stdout",
          "text": "Looked at 32/503 samples\n",
          "output_type": "stream"
        },
        {
          "name": "stdout",
          "text": "Looked at 64/503 samples\n",
          "output_type": "stream"
        },
        {
          "name": "stdout",
          "text": "Looked at 96/503 samples\n",
          "output_type": "stream"
        },
        {
          "name": "stdout",
          "text": "Looked at 128/503 samples\n",
          "output_type": "stream"
        },
        {
          "name": "stdout",
          "text": "Looked at 160/503 samples\n",
          "output_type": "stream"
        },
        {
          "name": "stdout",
          "text": "Looked at 192/503 samples\n",
          "output_type": "stream"
        },
        {
          "name": "stdout",
          "text": "Looked at 224/503 samples\n",
          "output_type": "stream"
        },
        {
          "name": "stdout",
          "text": "Looked at 256/503 samples\n",
          "output_type": "stream"
        },
        {
          "name": "stdout",
          "text": "Looked at 288/503 samples\n",
          "output_type": "stream"
        },
        {
          "name": "stdout",
          "text": "Looked at 320/503 samples\n",
          "output_type": "stream"
        },
        {
          "name": "stdout",
          "text": "Looked at 352/503 samples\n",
          "output_type": "stream"
        },
        {
          "name": "stdout",
          "text": "Looked at 384/503 samples\n",
          "output_type": "stream"
        },
        {
          "name": "stdout",
          "text": "Looked at 416/503 samples\n",
          "output_type": "stream"
        },
        {
          "name": "stdout",
          "text": "Looked at 448/503 samples\n",
          "output_type": "stream"
        },
        {
          "name": "stdout",
          "text": "Looked at 345/503 samples\n",
          "output_type": "stream"
        },
        {
          "name": "stdout",
          "text": "\nTrain loss: 1.28075 | Test loss: 1.51996, Test acc: 0.14\n\nEpoch: 18\n-------\n",
          "output_type": "stream"
        },
        {
          "name": "stdout",
          "text": "Looked at 0/503 samples\n",
          "output_type": "stream"
        },
        {
          "name": "stdout",
          "text": "Looked at 32/503 samples\n",
          "output_type": "stream"
        },
        {
          "name": "stdout",
          "text": "Looked at 64/503 samples\n",
          "output_type": "stream"
        },
        {
          "name": "stdout",
          "text": "Looked at 96/503 samples\n",
          "output_type": "stream"
        },
        {
          "name": "stdout",
          "text": "Looked at 128/503 samples\n",
          "output_type": "stream"
        },
        {
          "name": "stdout",
          "text": "Looked at 160/503 samples\n",
          "output_type": "stream"
        },
        {
          "name": "stdout",
          "text": "Looked at 192/503 samples\n",
          "output_type": "stream"
        },
        {
          "name": "stdout",
          "text": "Looked at 224/503 samples\n",
          "output_type": "stream"
        },
        {
          "name": "stdout",
          "text": "Looked at 256/503 samples\n",
          "output_type": "stream"
        },
        {
          "name": "stdout",
          "text": "Looked at 288/503 samples\n",
          "output_type": "stream"
        },
        {
          "name": "stdout",
          "text": "Looked at 320/503 samples\n",
          "output_type": "stream"
        },
        {
          "name": "stdout",
          "text": "Looked at 352/503 samples\n",
          "output_type": "stream"
        },
        {
          "name": "stdout",
          "text": "Looked at 384/503 samples\n",
          "output_type": "stream"
        },
        {
          "name": "stdout",
          "text": "Looked at 416/503 samples\n",
          "output_type": "stream"
        },
        {
          "name": "stdout",
          "text": "Looked at 448/503 samples\n",
          "output_type": "stream"
        },
        {
          "name": "stdout",
          "text": "Looked at 345/503 samples\n",
          "output_type": "stream"
        },
        {
          "name": "stdout",
          "text": "\nTrain loss: 1.28685 | Test loss: 1.60090, Test acc: 0.14\n\nEpoch: 19\n-------\n",
          "output_type": "stream"
        },
        {
          "name": "stdout",
          "text": "Looked at 0/503 samples\n",
          "output_type": "stream"
        },
        {
          "name": "stdout",
          "text": "Looked at 32/503 samples\n",
          "output_type": "stream"
        },
        {
          "name": "stdout",
          "text": "Looked at 64/503 samples\n",
          "output_type": "stream"
        },
        {
          "name": "stdout",
          "text": "Looked at 96/503 samples\n",
          "output_type": "stream"
        },
        {
          "name": "stdout",
          "text": "Looked at 128/503 samples\n",
          "output_type": "stream"
        },
        {
          "name": "stdout",
          "text": "Looked at 160/503 samples\n",
          "output_type": "stream"
        },
        {
          "name": "stdout",
          "text": "Looked at 192/503 samples\n",
          "output_type": "stream"
        },
        {
          "name": "stdout",
          "text": "Looked at 224/503 samples\n",
          "output_type": "stream"
        },
        {
          "name": "stdout",
          "text": "Looked at 256/503 samples\n",
          "output_type": "stream"
        },
        {
          "name": "stdout",
          "text": "Looked at 288/503 samples\n",
          "output_type": "stream"
        },
        {
          "name": "stdout",
          "text": "Looked at 320/503 samples\n",
          "output_type": "stream"
        },
        {
          "name": "stdout",
          "text": "Looked at 352/503 samples\n",
          "output_type": "stream"
        },
        {
          "name": "stdout",
          "text": "Looked at 384/503 samples\n",
          "output_type": "stream"
        },
        {
          "name": "stdout",
          "text": "Looked at 416/503 samples\n",
          "output_type": "stream"
        },
        {
          "name": "stdout",
          "text": "Looked at 448/503 samples\n",
          "output_type": "stream"
        },
        {
          "name": "stdout",
          "text": "Looked at 345/503 samples\n",
          "output_type": "stream"
        },
        {
          "name": "stdout",
          "text": "\nTrain loss: 1.25773 | Test loss: 1.54545, Test acc: 0.15\n\nEpoch: 20\n-------\n",
          "output_type": "stream"
        },
        {
          "name": "stdout",
          "text": "Looked at 0/503 samples\n",
          "output_type": "stream"
        },
        {
          "name": "stdout",
          "text": "Looked at 32/503 samples\n",
          "output_type": "stream"
        },
        {
          "name": "stdout",
          "text": "Looked at 64/503 samples\n",
          "output_type": "stream"
        },
        {
          "name": "stdout",
          "text": "Looked at 96/503 samples\n",
          "output_type": "stream"
        },
        {
          "name": "stdout",
          "text": "Looked at 128/503 samples\n",
          "output_type": "stream"
        },
        {
          "name": "stdout",
          "text": "Looked at 160/503 samples\n",
          "output_type": "stream"
        },
        {
          "name": "stdout",
          "text": "Looked at 192/503 samples\n",
          "output_type": "stream"
        },
        {
          "name": "stdout",
          "text": "Looked at 224/503 samples\n",
          "output_type": "stream"
        },
        {
          "name": "stdout",
          "text": "Looked at 256/503 samples\n",
          "output_type": "stream"
        },
        {
          "name": "stdout",
          "text": "Looked at 288/503 samples\n",
          "output_type": "stream"
        },
        {
          "name": "stdout",
          "text": "Looked at 320/503 samples\n",
          "output_type": "stream"
        },
        {
          "name": "stdout",
          "text": "Looked at 352/503 samples\n",
          "output_type": "stream"
        },
        {
          "name": "stdout",
          "text": "Looked at 384/503 samples\n",
          "output_type": "stream"
        },
        {
          "name": "stdout",
          "text": "Looked at 416/503 samples\n",
          "output_type": "stream"
        },
        {
          "name": "stdout",
          "text": "Looked at 448/503 samples\n",
          "output_type": "stream"
        },
        {
          "name": "stdout",
          "text": "Looked at 345/503 samples\n",
          "output_type": "stream"
        },
        {
          "name": "stdout",
          "text": "\nTrain loss: 1.24148 | Test loss: 1.59003, Test acc: 0.14\n\nEpoch: 21\n-------\n",
          "output_type": "stream"
        },
        {
          "name": "stdout",
          "text": "Looked at 0/503 samples\n",
          "output_type": "stream"
        },
        {
          "name": "stdout",
          "text": "Looked at 32/503 samples\n",
          "output_type": "stream"
        },
        {
          "name": "stdout",
          "text": "Looked at 64/503 samples\n",
          "output_type": "stream"
        },
        {
          "name": "stdout",
          "text": "Looked at 96/503 samples\n",
          "output_type": "stream"
        },
        {
          "name": "stdout",
          "text": "Looked at 128/503 samples\n",
          "output_type": "stream"
        },
        {
          "name": "stdout",
          "text": "Looked at 160/503 samples\n",
          "output_type": "stream"
        },
        {
          "name": "stdout",
          "text": "Looked at 192/503 samples\n",
          "output_type": "stream"
        },
        {
          "name": "stdout",
          "text": "Looked at 224/503 samples\n",
          "output_type": "stream"
        },
        {
          "name": "stdout",
          "text": "Looked at 256/503 samples\n",
          "output_type": "stream"
        },
        {
          "name": "stdout",
          "text": "Looked at 288/503 samples\n",
          "output_type": "stream"
        },
        {
          "name": "stdout",
          "text": "Looked at 320/503 samples\n",
          "output_type": "stream"
        },
        {
          "name": "stdout",
          "text": "Looked at 352/503 samples\n",
          "output_type": "stream"
        },
        {
          "name": "stdout",
          "text": "Looked at 384/503 samples\n",
          "output_type": "stream"
        },
        {
          "name": "stdout",
          "text": "Looked at 416/503 samples\n",
          "output_type": "stream"
        },
        {
          "name": "stdout",
          "text": "Looked at 448/503 samples\n",
          "output_type": "stream"
        },
        {
          "name": "stdout",
          "text": "Looked at 345/503 samples\n",
          "output_type": "stream"
        },
        {
          "name": "stdout",
          "text": "\nTrain loss: 1.23832 | Test loss: 1.49584, Test acc: 0.14\n\nEpoch: 22\n-------\n",
          "output_type": "stream"
        },
        {
          "name": "stdout",
          "text": "Looked at 0/503 samples\n",
          "output_type": "stream"
        },
        {
          "name": "stdout",
          "text": "Looked at 32/503 samples\n",
          "output_type": "stream"
        },
        {
          "name": "stdout",
          "text": "Looked at 64/503 samples\n",
          "output_type": "stream"
        },
        {
          "name": "stdout",
          "text": "Looked at 96/503 samples\n",
          "output_type": "stream"
        },
        {
          "name": "stdout",
          "text": "Looked at 128/503 samples\n",
          "output_type": "stream"
        },
        {
          "name": "stdout",
          "text": "Looked at 160/503 samples\n",
          "output_type": "stream"
        },
        {
          "name": "stdout",
          "text": "Looked at 192/503 samples\n",
          "output_type": "stream"
        },
        {
          "name": "stdout",
          "text": "Looked at 224/503 samples\n",
          "output_type": "stream"
        },
        {
          "name": "stdout",
          "text": "Looked at 256/503 samples\n",
          "output_type": "stream"
        },
        {
          "name": "stdout",
          "text": "Looked at 288/503 samples\n",
          "output_type": "stream"
        },
        {
          "name": "stdout",
          "text": "Looked at 320/503 samples\n",
          "output_type": "stream"
        },
        {
          "name": "stdout",
          "text": "Looked at 352/503 samples\n",
          "output_type": "stream"
        },
        {
          "name": "stdout",
          "text": "Looked at 384/503 samples\n",
          "output_type": "stream"
        },
        {
          "name": "stdout",
          "text": "Looked at 416/503 samples\n",
          "output_type": "stream"
        },
        {
          "name": "stdout",
          "text": "Looked at 448/503 samples\n",
          "output_type": "stream"
        },
        {
          "name": "stdout",
          "text": "Looked at 345/503 samples\n",
          "output_type": "stream"
        },
        {
          "name": "stdout",
          "text": "\nTrain loss: 1.20800 | Test loss: 1.56711, Test acc: 0.13\n\nEpoch: 23\n-------\n",
          "output_type": "stream"
        },
        {
          "name": "stdout",
          "text": "Looked at 0/503 samples\n",
          "output_type": "stream"
        },
        {
          "name": "stdout",
          "text": "Looked at 32/503 samples\n",
          "output_type": "stream"
        },
        {
          "name": "stdout",
          "text": "Looked at 64/503 samples\n",
          "output_type": "stream"
        },
        {
          "name": "stdout",
          "text": "Looked at 96/503 samples\n",
          "output_type": "stream"
        },
        {
          "name": "stdout",
          "text": "Looked at 128/503 samples\n",
          "output_type": "stream"
        },
        {
          "name": "stdout",
          "text": "Looked at 160/503 samples\n",
          "output_type": "stream"
        },
        {
          "name": "stdout",
          "text": "Looked at 192/503 samples\n",
          "output_type": "stream"
        },
        {
          "name": "stdout",
          "text": "Looked at 224/503 samples\n",
          "output_type": "stream"
        },
        {
          "name": "stdout",
          "text": "Looked at 256/503 samples\n",
          "output_type": "stream"
        },
        {
          "name": "stdout",
          "text": "Looked at 288/503 samples\n",
          "output_type": "stream"
        },
        {
          "name": "stdout",
          "text": "Looked at 320/503 samples\n",
          "output_type": "stream"
        },
        {
          "name": "stdout",
          "text": "Looked at 352/503 samples\n",
          "output_type": "stream"
        },
        {
          "name": "stdout",
          "text": "Looked at 384/503 samples\n",
          "output_type": "stream"
        },
        {
          "name": "stdout",
          "text": "Looked at 416/503 samples\n",
          "output_type": "stream"
        },
        {
          "name": "stdout",
          "text": "Looked at 448/503 samples\n",
          "output_type": "stream"
        },
        {
          "name": "stdout",
          "text": "Looked at 345/503 samples\n",
          "output_type": "stream"
        },
        {
          "name": "stdout",
          "text": "\nTrain loss: 1.18885 | Test loss: 1.52679, Test acc: 0.14\n\nEpoch: 24\n-------\n",
          "output_type": "stream"
        },
        {
          "name": "stdout",
          "text": "Looked at 0/503 samples\n",
          "output_type": "stream"
        },
        {
          "name": "stdout",
          "text": "Looked at 32/503 samples\n",
          "output_type": "stream"
        },
        {
          "name": "stdout",
          "text": "Looked at 64/503 samples\n",
          "output_type": "stream"
        },
        {
          "name": "stdout",
          "text": "Looked at 96/503 samples\n",
          "output_type": "stream"
        },
        {
          "name": "stdout",
          "text": "Looked at 128/503 samples\n",
          "output_type": "stream"
        },
        {
          "name": "stdout",
          "text": "Looked at 160/503 samples\n",
          "output_type": "stream"
        },
        {
          "name": "stdout",
          "text": "Looked at 192/503 samples\n",
          "output_type": "stream"
        },
        {
          "name": "stdout",
          "text": "Looked at 224/503 samples\n",
          "output_type": "stream"
        },
        {
          "name": "stdout",
          "text": "Looked at 256/503 samples\n",
          "output_type": "stream"
        },
        {
          "name": "stdout",
          "text": "Looked at 288/503 samples\n",
          "output_type": "stream"
        },
        {
          "name": "stdout",
          "text": "Looked at 320/503 samples\n",
          "output_type": "stream"
        },
        {
          "name": "stdout",
          "text": "Looked at 352/503 samples\n",
          "output_type": "stream"
        },
        {
          "name": "stdout",
          "text": "Looked at 384/503 samples\n",
          "output_type": "stream"
        },
        {
          "name": "stdout",
          "text": "Looked at 416/503 samples\n",
          "output_type": "stream"
        },
        {
          "name": "stdout",
          "text": "Looked at 448/503 samples\n",
          "output_type": "stream"
        },
        {
          "name": "stdout",
          "text": "Looked at 345/503 samples\n",
          "output_type": "stream"
        },
        {
          "name": "stdout",
          "text": "\nTrain loss: 1.19347 | Test loss: 1.50248, Test acc: 0.14\n\nEpoch: 25\n-------\n",
          "output_type": "stream"
        },
        {
          "name": "stdout",
          "text": "Looked at 0/503 samples\n",
          "output_type": "stream"
        },
        {
          "name": "stdout",
          "text": "Looked at 32/503 samples\n",
          "output_type": "stream"
        },
        {
          "name": "stdout",
          "text": "Looked at 64/503 samples\n",
          "output_type": "stream"
        },
        {
          "name": "stdout",
          "text": "Looked at 96/503 samples\n",
          "output_type": "stream"
        },
        {
          "name": "stdout",
          "text": "Looked at 128/503 samples\n",
          "output_type": "stream"
        },
        {
          "name": "stdout",
          "text": "Looked at 160/503 samples\n",
          "output_type": "stream"
        },
        {
          "name": "stdout",
          "text": "Looked at 192/503 samples\n",
          "output_type": "stream"
        },
        {
          "name": "stdout",
          "text": "Looked at 224/503 samples\n",
          "output_type": "stream"
        },
        {
          "name": "stdout",
          "text": "Looked at 256/503 samples\n",
          "output_type": "stream"
        },
        {
          "name": "stdout",
          "text": "Looked at 288/503 samples\n",
          "output_type": "stream"
        },
        {
          "name": "stdout",
          "text": "Looked at 320/503 samples\n",
          "output_type": "stream"
        },
        {
          "name": "stdout",
          "text": "Looked at 352/503 samples\n",
          "output_type": "stream"
        },
        {
          "name": "stdout",
          "text": "Looked at 384/503 samples\n",
          "output_type": "stream"
        },
        {
          "name": "stdout",
          "text": "Looked at 416/503 samples\n",
          "output_type": "stream"
        },
        {
          "name": "stdout",
          "text": "Looked at 448/503 samples\n",
          "output_type": "stream"
        },
        {
          "name": "stdout",
          "text": "Looked at 345/503 samples\n",
          "output_type": "stream"
        },
        {
          "name": "stdout",
          "text": "\nTrain loss: 1.16077 | Test loss: 1.47593, Test acc: 0.16\n\nEpoch: 26\n-------\n",
          "output_type": "stream"
        },
        {
          "name": "stdout",
          "text": "Looked at 0/503 samples\n",
          "output_type": "stream"
        },
        {
          "name": "stdout",
          "text": "Looked at 32/503 samples\n",
          "output_type": "stream"
        },
        {
          "name": "stdout",
          "text": "Looked at 64/503 samples\n",
          "output_type": "stream"
        },
        {
          "name": "stdout",
          "text": "Looked at 96/503 samples\n",
          "output_type": "stream"
        },
        {
          "name": "stdout",
          "text": "Looked at 128/503 samples\n",
          "output_type": "stream"
        },
        {
          "name": "stdout",
          "text": "Looked at 160/503 samples\n",
          "output_type": "stream"
        },
        {
          "name": "stdout",
          "text": "Looked at 192/503 samples\n",
          "output_type": "stream"
        },
        {
          "name": "stdout",
          "text": "Looked at 224/503 samples\n",
          "output_type": "stream"
        },
        {
          "name": "stdout",
          "text": "Looked at 256/503 samples\n",
          "output_type": "stream"
        },
        {
          "name": "stdout",
          "text": "Looked at 288/503 samples\n",
          "output_type": "stream"
        },
        {
          "name": "stdout",
          "text": "Looked at 320/503 samples\n",
          "output_type": "stream"
        },
        {
          "name": "stdout",
          "text": "Looked at 352/503 samples\n",
          "output_type": "stream"
        },
        {
          "name": "stdout",
          "text": "Looked at 384/503 samples\n",
          "output_type": "stream"
        },
        {
          "name": "stdout",
          "text": "Looked at 416/503 samples\n",
          "output_type": "stream"
        },
        {
          "name": "stdout",
          "text": "Looked at 448/503 samples\n",
          "output_type": "stream"
        },
        {
          "name": "stdout",
          "text": "Looked at 345/503 samples\n",
          "output_type": "stream"
        },
        {
          "name": "stdout",
          "text": "\nTrain loss: 1.15296 | Test loss: 1.43496, Test acc: 0.17\n\nEpoch: 27\n-------\n",
          "output_type": "stream"
        },
        {
          "name": "stdout",
          "text": "Looked at 0/503 samples\n",
          "output_type": "stream"
        },
        {
          "name": "stdout",
          "text": "Looked at 32/503 samples\n",
          "output_type": "stream"
        },
        {
          "name": "stdout",
          "text": "Looked at 64/503 samples\n",
          "output_type": "stream"
        },
        {
          "name": "stdout",
          "text": "Looked at 96/503 samples\n",
          "output_type": "stream"
        },
        {
          "name": "stdout",
          "text": "Looked at 128/503 samples\n",
          "output_type": "stream"
        },
        {
          "name": "stdout",
          "text": "Looked at 160/503 samples\n",
          "output_type": "stream"
        },
        {
          "name": "stdout",
          "text": "Looked at 192/503 samples\n",
          "output_type": "stream"
        },
        {
          "name": "stdout",
          "text": "Looked at 224/503 samples\n",
          "output_type": "stream"
        },
        {
          "name": "stdout",
          "text": "Looked at 256/503 samples\n",
          "output_type": "stream"
        },
        {
          "name": "stdout",
          "text": "Looked at 288/503 samples\n",
          "output_type": "stream"
        },
        {
          "name": "stdout",
          "text": "Looked at 320/503 samples\n",
          "output_type": "stream"
        },
        {
          "name": "stdout",
          "text": "Looked at 352/503 samples\n",
          "output_type": "stream"
        },
        {
          "name": "stdout",
          "text": "Looked at 384/503 samples\n",
          "output_type": "stream"
        },
        {
          "name": "stdout",
          "text": "Looked at 416/503 samples\n",
          "output_type": "stream"
        },
        {
          "name": "stdout",
          "text": "Looked at 448/503 samples\n",
          "output_type": "stream"
        },
        {
          "name": "stdout",
          "text": "Looked at 345/503 samples\n",
          "output_type": "stream"
        },
        {
          "name": "stdout",
          "text": "\nTrain loss: 1.16559 | Test loss: 1.47373, Test acc: 0.16\n\nEpoch: 28\n-------\n",
          "output_type": "stream"
        },
        {
          "name": "stdout",
          "text": "Looked at 0/503 samples\n",
          "output_type": "stream"
        },
        {
          "name": "stdout",
          "text": "Looked at 32/503 samples\n",
          "output_type": "stream"
        },
        {
          "name": "stdout",
          "text": "Looked at 64/503 samples\n",
          "output_type": "stream"
        },
        {
          "name": "stdout",
          "text": "Looked at 96/503 samples\n",
          "output_type": "stream"
        },
        {
          "name": "stdout",
          "text": "Looked at 128/503 samples\n",
          "output_type": "stream"
        },
        {
          "name": "stdout",
          "text": "Looked at 160/503 samples\n",
          "output_type": "stream"
        },
        {
          "name": "stdout",
          "text": "Looked at 192/503 samples\n",
          "output_type": "stream"
        },
        {
          "name": "stdout",
          "text": "Looked at 224/503 samples\n",
          "output_type": "stream"
        },
        {
          "name": "stdout",
          "text": "Looked at 256/503 samples\n",
          "output_type": "stream"
        },
        {
          "name": "stdout",
          "text": "Looked at 288/503 samples\n",
          "output_type": "stream"
        },
        {
          "name": "stdout",
          "text": "Looked at 320/503 samples\n",
          "output_type": "stream"
        },
        {
          "name": "stdout",
          "text": "Looked at 352/503 samples\n",
          "output_type": "stream"
        },
        {
          "name": "stdout",
          "text": "Looked at 384/503 samples\n",
          "output_type": "stream"
        },
        {
          "name": "stdout",
          "text": "Looked at 416/503 samples\n",
          "output_type": "stream"
        },
        {
          "name": "stdout",
          "text": "Looked at 448/503 samples\n",
          "output_type": "stream"
        },
        {
          "name": "stdout",
          "text": "Looked at 345/503 samples\n",
          "output_type": "stream"
        },
        {
          "name": "stdout",
          "text": "\nTrain loss: 1.13751 | Test loss: 1.48856, Test acc: 0.14\n\nEpoch: 29\n-------\n",
          "output_type": "stream"
        },
        {
          "name": "stdout",
          "text": "Looked at 0/503 samples\n",
          "output_type": "stream"
        },
        {
          "name": "stdout",
          "text": "Looked at 32/503 samples\n",
          "output_type": "stream"
        },
        {
          "name": "stdout",
          "text": "Looked at 64/503 samples\n",
          "output_type": "stream"
        },
        {
          "name": "stdout",
          "text": "Looked at 96/503 samples\n",
          "output_type": "stream"
        },
        {
          "name": "stdout",
          "text": "Looked at 128/503 samples\n",
          "output_type": "stream"
        },
        {
          "name": "stdout",
          "text": "Looked at 160/503 samples\n",
          "output_type": "stream"
        },
        {
          "name": "stdout",
          "text": "Looked at 192/503 samples\n",
          "output_type": "stream"
        },
        {
          "name": "stdout",
          "text": "Looked at 224/503 samples\n",
          "output_type": "stream"
        },
        {
          "name": "stdout",
          "text": "Looked at 256/503 samples\n",
          "output_type": "stream"
        },
        {
          "name": "stdout",
          "text": "Looked at 288/503 samples\n",
          "output_type": "stream"
        },
        {
          "name": "stdout",
          "text": "Looked at 320/503 samples\n",
          "output_type": "stream"
        },
        {
          "name": "stdout",
          "text": "Looked at 352/503 samples\n",
          "output_type": "stream"
        },
        {
          "name": "stdout",
          "text": "Looked at 384/503 samples\n",
          "output_type": "stream"
        },
        {
          "name": "stdout",
          "text": "Looked at 416/503 samples\n",
          "output_type": "stream"
        },
        {
          "name": "stdout",
          "text": "Looked at 448/503 samples\n",
          "output_type": "stream"
        },
        {
          "name": "stdout",
          "text": "Looked at 345/503 samples\n",
          "output_type": "stream"
        },
        {
          "name": "stdout",
          "text": "\nTrain loss: 1.09408 | Test loss: 1.49615, Test acc: 0.16\n\nEpoch: 30\n-------\n",
          "output_type": "stream"
        },
        {
          "name": "stdout",
          "text": "Looked at 0/503 samples\n",
          "output_type": "stream"
        },
        {
          "name": "stdout",
          "text": "Looked at 32/503 samples\n",
          "output_type": "stream"
        },
        {
          "name": "stdout",
          "text": "Looked at 64/503 samples\n",
          "output_type": "stream"
        },
        {
          "name": "stdout",
          "text": "Looked at 96/503 samples\n",
          "output_type": "stream"
        },
        {
          "name": "stdout",
          "text": "Looked at 128/503 samples\n",
          "output_type": "stream"
        },
        {
          "name": "stdout",
          "text": "Looked at 160/503 samples\n",
          "output_type": "stream"
        },
        {
          "name": "stdout",
          "text": "Looked at 192/503 samples\n",
          "output_type": "stream"
        },
        {
          "name": "stdout",
          "text": "Looked at 224/503 samples\n",
          "output_type": "stream"
        },
        {
          "name": "stdout",
          "text": "Looked at 256/503 samples\n",
          "output_type": "stream"
        },
        {
          "name": "stdout",
          "text": "Looked at 288/503 samples\n",
          "output_type": "stream"
        },
        {
          "name": "stdout",
          "text": "Looked at 320/503 samples\n",
          "output_type": "stream"
        },
        {
          "name": "stdout",
          "text": "Looked at 352/503 samples\n",
          "output_type": "stream"
        },
        {
          "name": "stdout",
          "text": "Looked at 384/503 samples\n",
          "output_type": "stream"
        },
        {
          "name": "stdout",
          "text": "Looked at 416/503 samples\n",
          "output_type": "stream"
        },
        {
          "name": "stdout",
          "text": "Looked at 448/503 samples\n",
          "output_type": "stream"
        },
        {
          "name": "stdout",
          "text": "Looked at 345/503 samples\n",
          "output_type": "stream"
        },
        {
          "name": "stdout",
          "text": "\nTrain loss: 1.09365 | Test loss: 1.41244, Test acc: 0.17\n\nEpoch: 31\n-------\n",
          "output_type": "stream"
        },
        {
          "name": "stdout",
          "text": "Looked at 0/503 samples\n",
          "output_type": "stream"
        },
        {
          "name": "stdout",
          "text": "Looked at 32/503 samples\n",
          "output_type": "stream"
        },
        {
          "name": "stdout",
          "text": "Looked at 64/503 samples\n",
          "output_type": "stream"
        },
        {
          "name": "stdout",
          "text": "Looked at 96/503 samples\n",
          "output_type": "stream"
        },
        {
          "name": "stdout",
          "text": "Looked at 128/503 samples\n",
          "output_type": "stream"
        },
        {
          "name": "stdout",
          "text": "Looked at 160/503 samples\n",
          "output_type": "stream"
        },
        {
          "name": "stdout",
          "text": "Looked at 192/503 samples\n",
          "output_type": "stream"
        },
        {
          "name": "stdout",
          "text": "Looked at 224/503 samples\n",
          "output_type": "stream"
        },
        {
          "name": "stdout",
          "text": "Looked at 256/503 samples\n",
          "output_type": "stream"
        },
        {
          "name": "stdout",
          "text": "Looked at 288/503 samples\n",
          "output_type": "stream"
        },
        {
          "name": "stdout",
          "text": "Looked at 320/503 samples\n",
          "output_type": "stream"
        },
        {
          "name": "stdout",
          "text": "Looked at 352/503 samples\n",
          "output_type": "stream"
        },
        {
          "name": "stdout",
          "text": "Looked at 384/503 samples\n",
          "output_type": "stream"
        },
        {
          "name": "stdout",
          "text": "Looked at 416/503 samples\n",
          "output_type": "stream"
        },
        {
          "name": "stdout",
          "text": "Looked at 448/503 samples\n",
          "output_type": "stream"
        },
        {
          "name": "stdout",
          "text": "Looked at 345/503 samples\n",
          "output_type": "stream"
        },
        {
          "name": "stdout",
          "text": "\nTrain loss: 1.10076 | Test loss: 1.43042, Test acc: 0.17\n\nEpoch: 32\n-------\n",
          "output_type": "stream"
        },
        {
          "name": "stdout",
          "text": "Looked at 0/503 samples\n",
          "output_type": "stream"
        },
        {
          "name": "stdout",
          "text": "Looked at 32/503 samples\n",
          "output_type": "stream"
        },
        {
          "name": "stdout",
          "text": "Looked at 64/503 samples\n",
          "output_type": "stream"
        },
        {
          "name": "stdout",
          "text": "Looked at 96/503 samples\n",
          "output_type": "stream"
        },
        {
          "name": "stdout",
          "text": "Looked at 128/503 samples\n",
          "output_type": "stream"
        },
        {
          "name": "stdout",
          "text": "Looked at 160/503 samples\n",
          "output_type": "stream"
        },
        {
          "name": "stdout",
          "text": "Looked at 192/503 samples\n",
          "output_type": "stream"
        },
        {
          "name": "stdout",
          "text": "Looked at 224/503 samples\n",
          "output_type": "stream"
        },
        {
          "name": "stdout",
          "text": "Looked at 256/503 samples\n",
          "output_type": "stream"
        },
        {
          "name": "stdout",
          "text": "Looked at 288/503 samples\n",
          "output_type": "stream"
        },
        {
          "name": "stdout",
          "text": "Looked at 320/503 samples\n",
          "output_type": "stream"
        },
        {
          "name": "stdout",
          "text": "Looked at 352/503 samples\n",
          "output_type": "stream"
        },
        {
          "name": "stdout",
          "text": "Looked at 384/503 samples\n",
          "output_type": "stream"
        },
        {
          "name": "stdout",
          "text": "Looked at 416/503 samples\n",
          "output_type": "stream"
        },
        {
          "name": "stdout",
          "text": "Looked at 448/503 samples\n",
          "output_type": "stream"
        },
        {
          "name": "stdout",
          "text": "Looked at 345/503 samples\n",
          "output_type": "stream"
        },
        {
          "name": "stdout",
          "text": "\nTrain loss: 1.10647 | Test loss: 1.43936, Test acc: 0.14\n\nEpoch: 33\n-------\n",
          "output_type": "stream"
        },
        {
          "name": "stdout",
          "text": "Looked at 0/503 samples\n",
          "output_type": "stream"
        },
        {
          "name": "stdout",
          "text": "Looked at 32/503 samples\n",
          "output_type": "stream"
        },
        {
          "name": "stdout",
          "text": "Looked at 64/503 samples\n",
          "output_type": "stream"
        },
        {
          "name": "stdout",
          "text": "Looked at 96/503 samples\n",
          "output_type": "stream"
        },
        {
          "name": "stdout",
          "text": "Looked at 128/503 samples\n",
          "output_type": "stream"
        },
        {
          "name": "stdout",
          "text": "Looked at 160/503 samples\n",
          "output_type": "stream"
        },
        {
          "name": "stdout",
          "text": "Looked at 192/503 samples\n",
          "output_type": "stream"
        },
        {
          "name": "stdout",
          "text": "Looked at 224/503 samples\n",
          "output_type": "stream"
        },
        {
          "name": "stdout",
          "text": "Looked at 256/503 samples\n",
          "output_type": "stream"
        },
        {
          "name": "stdout",
          "text": "Looked at 288/503 samples\n",
          "output_type": "stream"
        },
        {
          "name": "stdout",
          "text": "Looked at 320/503 samples\n",
          "output_type": "stream"
        },
        {
          "name": "stdout",
          "text": "Looked at 352/503 samples\n",
          "output_type": "stream"
        },
        {
          "name": "stdout",
          "text": "Looked at 384/503 samples\n",
          "output_type": "stream"
        },
        {
          "name": "stdout",
          "text": "Looked at 416/503 samples\n",
          "output_type": "stream"
        },
        {
          "name": "stdout",
          "text": "Looked at 448/503 samples\n",
          "output_type": "stream"
        },
        {
          "name": "stdout",
          "text": "Looked at 345/503 samples\n",
          "output_type": "stream"
        },
        {
          "name": "stdout",
          "text": "\nTrain loss: 1.09898 | Test loss: 1.40178, Test acc: 0.16\n\nEpoch: 34\n-------\n",
          "output_type": "stream"
        },
        {
          "name": "stdout",
          "text": "Looked at 0/503 samples\n",
          "output_type": "stream"
        },
        {
          "name": "stdout",
          "text": "Looked at 32/503 samples\n",
          "output_type": "stream"
        },
        {
          "name": "stdout",
          "text": "Looked at 64/503 samples\n",
          "output_type": "stream"
        },
        {
          "name": "stdout",
          "text": "Looked at 96/503 samples\n",
          "output_type": "stream"
        },
        {
          "name": "stdout",
          "text": "Looked at 128/503 samples\n",
          "output_type": "stream"
        },
        {
          "name": "stdout",
          "text": "Looked at 160/503 samples\n",
          "output_type": "stream"
        },
        {
          "name": "stdout",
          "text": "Looked at 192/503 samples\n",
          "output_type": "stream"
        },
        {
          "name": "stdout",
          "text": "Looked at 224/503 samples\n",
          "output_type": "stream"
        },
        {
          "name": "stdout",
          "text": "Looked at 256/503 samples\n",
          "output_type": "stream"
        },
        {
          "name": "stdout",
          "text": "Looked at 288/503 samples\n",
          "output_type": "stream"
        },
        {
          "name": "stdout",
          "text": "Looked at 320/503 samples\n",
          "output_type": "stream"
        },
        {
          "name": "stdout",
          "text": "Looked at 352/503 samples\n",
          "output_type": "stream"
        },
        {
          "name": "stdout",
          "text": "Looked at 384/503 samples\n",
          "output_type": "stream"
        },
        {
          "name": "stdout",
          "text": "Looked at 416/503 samples\n",
          "output_type": "stream"
        },
        {
          "name": "stdout",
          "text": "Looked at 448/503 samples\n",
          "output_type": "stream"
        },
        {
          "name": "stdout",
          "text": "Looked at 345/503 samples\n",
          "output_type": "stream"
        },
        {
          "name": "stdout",
          "text": "\nTrain loss: 1.03470 | Test loss: 1.43539, Test acc: 0.15\n\nEpoch: 35\n-------\n",
          "output_type": "stream"
        },
        {
          "name": "stdout",
          "text": "Looked at 0/503 samples\n",
          "output_type": "stream"
        },
        {
          "name": "stdout",
          "text": "Looked at 32/503 samples\n",
          "output_type": "stream"
        },
        {
          "name": "stdout",
          "text": "Looked at 64/503 samples\n",
          "output_type": "stream"
        },
        {
          "name": "stdout",
          "text": "Looked at 96/503 samples\n",
          "output_type": "stream"
        },
        {
          "name": "stdout",
          "text": "Looked at 128/503 samples\n",
          "output_type": "stream"
        },
        {
          "name": "stdout",
          "text": "Looked at 160/503 samples\n",
          "output_type": "stream"
        },
        {
          "name": "stdout",
          "text": "Looked at 192/503 samples\n",
          "output_type": "stream"
        },
        {
          "name": "stdout",
          "text": "Looked at 224/503 samples\n",
          "output_type": "stream"
        },
        {
          "name": "stdout",
          "text": "Looked at 256/503 samples\n",
          "output_type": "stream"
        },
        {
          "name": "stdout",
          "text": "Looked at 288/503 samples\n",
          "output_type": "stream"
        },
        {
          "name": "stdout",
          "text": "Looked at 320/503 samples\n",
          "output_type": "stream"
        },
        {
          "name": "stdout",
          "text": "Looked at 352/503 samples\n",
          "output_type": "stream"
        },
        {
          "name": "stdout",
          "text": "Looked at 384/503 samples\n",
          "output_type": "stream"
        },
        {
          "name": "stdout",
          "text": "Looked at 416/503 samples\n",
          "output_type": "stream"
        },
        {
          "name": "stdout",
          "text": "Looked at 448/503 samples\n",
          "output_type": "stream"
        },
        {
          "name": "stdout",
          "text": "Looked at 345/503 samples\n",
          "output_type": "stream"
        },
        {
          "name": "stdout",
          "text": "\nTrain loss: 1.10444 | Test loss: 1.41725, Test acc: 0.14\n\nEpoch: 36\n-------\n",
          "output_type": "stream"
        },
        {
          "name": "stdout",
          "text": "Looked at 0/503 samples\n",
          "output_type": "stream"
        },
        {
          "name": "stdout",
          "text": "Looked at 32/503 samples\n",
          "output_type": "stream"
        },
        {
          "name": "stdout",
          "text": "Looked at 64/503 samples\n",
          "output_type": "stream"
        },
        {
          "name": "stdout",
          "text": "Looked at 96/503 samples\n",
          "output_type": "stream"
        },
        {
          "name": "stdout",
          "text": "Looked at 128/503 samples\n",
          "output_type": "stream"
        },
        {
          "name": "stdout",
          "text": "Looked at 160/503 samples\n",
          "output_type": "stream"
        },
        {
          "name": "stdout",
          "text": "Looked at 192/503 samples\n",
          "output_type": "stream"
        },
        {
          "name": "stdout",
          "text": "Looked at 224/503 samples\n",
          "output_type": "stream"
        },
        {
          "name": "stdout",
          "text": "Looked at 256/503 samples\n",
          "output_type": "stream"
        },
        {
          "name": "stdout",
          "text": "Looked at 288/503 samples\n",
          "output_type": "stream"
        },
        {
          "name": "stdout",
          "text": "Looked at 320/503 samples\n",
          "output_type": "stream"
        },
        {
          "name": "stdout",
          "text": "Looked at 352/503 samples\n",
          "output_type": "stream"
        },
        {
          "name": "stdout",
          "text": "Looked at 384/503 samples\n",
          "output_type": "stream"
        },
        {
          "name": "stdout",
          "text": "Looked at 416/503 samples\n",
          "output_type": "stream"
        },
        {
          "name": "stdout",
          "text": "Looked at 448/503 samples\n",
          "output_type": "stream"
        },
        {
          "name": "stdout",
          "text": "Looked at 345/503 samples\n",
          "output_type": "stream"
        },
        {
          "name": "stdout",
          "text": "\nTrain loss: 1.06524 | Test loss: 1.44585, Test acc: 0.15\n\nEpoch: 37\n-------\n",
          "output_type": "stream"
        },
        {
          "name": "stdout",
          "text": "Looked at 0/503 samples\n",
          "output_type": "stream"
        },
        {
          "name": "stdout",
          "text": "Looked at 32/503 samples\n",
          "output_type": "stream"
        },
        {
          "name": "stdout",
          "text": "Looked at 64/503 samples\n",
          "output_type": "stream"
        },
        {
          "name": "stdout",
          "text": "Looked at 96/503 samples\n",
          "output_type": "stream"
        },
        {
          "name": "stdout",
          "text": "Looked at 128/503 samples\n",
          "output_type": "stream"
        },
        {
          "name": "stdout",
          "text": "Looked at 160/503 samples\n",
          "output_type": "stream"
        },
        {
          "name": "stdout",
          "text": "Looked at 192/503 samples\n",
          "output_type": "stream"
        },
        {
          "name": "stdout",
          "text": "Looked at 224/503 samples\n",
          "output_type": "stream"
        },
        {
          "name": "stdout",
          "text": "Looked at 256/503 samples\n",
          "output_type": "stream"
        },
        {
          "name": "stdout",
          "text": "Looked at 288/503 samples\n",
          "output_type": "stream"
        },
        {
          "name": "stdout",
          "text": "Looked at 320/503 samples\n",
          "output_type": "stream"
        },
        {
          "name": "stdout",
          "text": "Looked at 352/503 samples\n",
          "output_type": "stream"
        },
        {
          "name": "stdout",
          "text": "Looked at 384/503 samples\n",
          "output_type": "stream"
        },
        {
          "name": "stdout",
          "text": "Looked at 416/503 samples\n",
          "output_type": "stream"
        },
        {
          "name": "stdout",
          "text": "Looked at 448/503 samples\n",
          "output_type": "stream"
        },
        {
          "name": "stdout",
          "text": "Looked at 345/503 samples\n",
          "output_type": "stream"
        },
        {
          "name": "stdout",
          "text": "\nTrain loss: 1.05190 | Test loss: 1.45907, Test acc: 0.14\n\nEpoch: 38\n-------\n",
          "output_type": "stream"
        },
        {
          "name": "stdout",
          "text": "Looked at 0/503 samples\n",
          "output_type": "stream"
        },
        {
          "name": "stdout",
          "text": "Looked at 32/503 samples\n",
          "output_type": "stream"
        },
        {
          "name": "stdout",
          "text": "Looked at 64/503 samples\n",
          "output_type": "stream"
        },
        {
          "name": "stdout",
          "text": "Looked at 96/503 samples\n",
          "output_type": "stream"
        },
        {
          "name": "stdout",
          "text": "Looked at 128/503 samples\n",
          "output_type": "stream"
        },
        {
          "name": "stdout",
          "text": "Looked at 160/503 samples\n",
          "output_type": "stream"
        },
        {
          "name": "stdout",
          "text": "Looked at 192/503 samples\n",
          "output_type": "stream"
        },
        {
          "name": "stdout",
          "text": "Looked at 224/503 samples\n",
          "output_type": "stream"
        },
        {
          "name": "stdout",
          "text": "Looked at 256/503 samples\n",
          "output_type": "stream"
        },
        {
          "name": "stdout",
          "text": "Looked at 288/503 samples\n",
          "output_type": "stream"
        },
        {
          "name": "stdout",
          "text": "Looked at 320/503 samples\n",
          "output_type": "stream"
        },
        {
          "name": "stdout",
          "text": "Looked at 352/503 samples\n",
          "output_type": "stream"
        },
        {
          "name": "stdout",
          "text": "Looked at 384/503 samples\n",
          "output_type": "stream"
        },
        {
          "name": "stdout",
          "text": "Looked at 416/503 samples\n",
          "output_type": "stream"
        },
        {
          "name": "stdout",
          "text": "Looked at 448/503 samples\n",
          "output_type": "stream"
        },
        {
          "name": "stdout",
          "text": "Looked at 345/503 samples\n",
          "output_type": "stream"
        },
        {
          "name": "stdout",
          "text": "\nTrain loss: 1.06967 | Test loss: 1.48901, Test acc: 0.13\n\nEpoch: 39\n-------\n",
          "output_type": "stream"
        },
        {
          "name": "stdout",
          "text": "Looked at 0/503 samples\n",
          "output_type": "stream"
        },
        {
          "name": "stdout",
          "text": "Looked at 32/503 samples\n",
          "output_type": "stream"
        },
        {
          "name": "stdout",
          "text": "Looked at 64/503 samples\n",
          "output_type": "stream"
        },
        {
          "name": "stdout",
          "text": "Looked at 96/503 samples\n",
          "output_type": "stream"
        },
        {
          "name": "stdout",
          "text": "Looked at 128/503 samples\n",
          "output_type": "stream"
        },
        {
          "name": "stdout",
          "text": "Looked at 160/503 samples\n",
          "output_type": "stream"
        },
        {
          "name": "stdout",
          "text": "Looked at 192/503 samples\n",
          "output_type": "stream"
        },
        {
          "name": "stdout",
          "text": "Looked at 224/503 samples\n",
          "output_type": "stream"
        },
        {
          "name": "stdout",
          "text": "Looked at 256/503 samples\n",
          "output_type": "stream"
        },
        {
          "name": "stdout",
          "text": "Looked at 288/503 samples\n",
          "output_type": "stream"
        },
        {
          "name": "stdout",
          "text": "Looked at 320/503 samples\n",
          "output_type": "stream"
        },
        {
          "name": "stdout",
          "text": "Looked at 352/503 samples\n",
          "output_type": "stream"
        },
        {
          "name": "stdout",
          "text": "Looked at 384/503 samples\n",
          "output_type": "stream"
        },
        {
          "name": "stdout",
          "text": "Looked at 416/503 samples\n",
          "output_type": "stream"
        },
        {
          "name": "stdout",
          "text": "Looked at 448/503 samples\n",
          "output_type": "stream"
        },
        {
          "name": "stdout",
          "text": "Looked at 345/503 samples\n",
          "output_type": "stream"
        },
        {
          "name": "stdout",
          "text": "\nTrain loss: 1.05909 | Test loss: 1.42436, Test acc: 0.15\n\nEpoch: 40\n-------\n",
          "output_type": "stream"
        },
        {
          "name": "stdout",
          "text": "Looked at 0/503 samples\n",
          "output_type": "stream"
        },
        {
          "name": "stdout",
          "text": "Looked at 32/503 samples\n",
          "output_type": "stream"
        },
        {
          "name": "stdout",
          "text": "Looked at 64/503 samples\n",
          "output_type": "stream"
        },
        {
          "name": "stdout",
          "text": "Looked at 96/503 samples\n",
          "output_type": "stream"
        },
        {
          "name": "stdout",
          "text": "Looked at 128/503 samples\n",
          "output_type": "stream"
        },
        {
          "name": "stdout",
          "text": "Looked at 160/503 samples\n",
          "output_type": "stream"
        },
        {
          "name": "stdout",
          "text": "Looked at 192/503 samples\n",
          "output_type": "stream"
        },
        {
          "name": "stdout",
          "text": "Looked at 224/503 samples\n",
          "output_type": "stream"
        },
        {
          "name": "stdout",
          "text": "Looked at 256/503 samples\n",
          "output_type": "stream"
        },
        {
          "name": "stdout",
          "text": "Looked at 288/503 samples\n",
          "output_type": "stream"
        },
        {
          "name": "stdout",
          "text": "Looked at 320/503 samples\n",
          "output_type": "stream"
        },
        {
          "name": "stdout",
          "text": "Looked at 352/503 samples\n",
          "output_type": "stream"
        },
        {
          "name": "stdout",
          "text": "Looked at 384/503 samples\n",
          "output_type": "stream"
        },
        {
          "name": "stdout",
          "text": "Looked at 416/503 samples\n",
          "output_type": "stream"
        },
        {
          "name": "stdout",
          "text": "Looked at 448/503 samples\n",
          "output_type": "stream"
        },
        {
          "name": "stdout",
          "text": "Looked at 345/503 samples\n",
          "output_type": "stream"
        },
        {
          "name": "stdout",
          "text": "\nTrain loss: 1.03537 | Test loss: 1.45293, Test acc: 0.13\n\nEpoch: 41\n-------\n",
          "output_type": "stream"
        },
        {
          "name": "stdout",
          "text": "Looked at 0/503 samples\n",
          "output_type": "stream"
        },
        {
          "name": "stdout",
          "text": "Looked at 32/503 samples\n",
          "output_type": "stream"
        },
        {
          "name": "stdout",
          "text": "Looked at 64/503 samples\n",
          "output_type": "stream"
        },
        {
          "name": "stdout",
          "text": "Looked at 96/503 samples\n",
          "output_type": "stream"
        },
        {
          "name": "stdout",
          "text": "Looked at 128/503 samples\n",
          "output_type": "stream"
        },
        {
          "name": "stdout",
          "text": "Looked at 160/503 samples\n",
          "output_type": "stream"
        },
        {
          "name": "stdout",
          "text": "Looked at 192/503 samples\n",
          "output_type": "stream"
        },
        {
          "name": "stdout",
          "text": "Looked at 224/503 samples\n",
          "output_type": "stream"
        },
        {
          "name": "stdout",
          "text": "Looked at 256/503 samples\n",
          "output_type": "stream"
        },
        {
          "name": "stdout",
          "text": "Looked at 288/503 samples\n",
          "output_type": "stream"
        },
        {
          "name": "stdout",
          "text": "Looked at 320/503 samples\n",
          "output_type": "stream"
        },
        {
          "name": "stdout",
          "text": "Looked at 352/503 samples\n",
          "output_type": "stream"
        },
        {
          "name": "stdout",
          "text": "Looked at 384/503 samples\n",
          "output_type": "stream"
        },
        {
          "name": "stdout",
          "text": "Looked at 416/503 samples\n",
          "output_type": "stream"
        },
        {
          "name": "stdout",
          "text": "Looked at 448/503 samples\n",
          "output_type": "stream"
        },
        {
          "name": "stdout",
          "text": "Looked at 345/503 samples\n",
          "output_type": "stream"
        },
        {
          "name": "stdout",
          "text": "\nTrain loss: 1.02438 | Test loss: 1.48150, Test acc: 0.14\n\nEpoch: 42\n-------\n",
          "output_type": "stream"
        },
        {
          "name": "stdout",
          "text": "Looked at 0/503 samples\n",
          "output_type": "stream"
        },
        {
          "name": "stdout",
          "text": "Looked at 32/503 samples\n",
          "output_type": "stream"
        },
        {
          "name": "stdout",
          "text": "Looked at 64/503 samples\n",
          "output_type": "stream"
        },
        {
          "name": "stdout",
          "text": "Looked at 96/503 samples\n",
          "output_type": "stream"
        },
        {
          "name": "stdout",
          "text": "Looked at 128/503 samples\n",
          "output_type": "stream"
        },
        {
          "name": "stdout",
          "text": "Looked at 160/503 samples\n",
          "output_type": "stream"
        },
        {
          "name": "stdout",
          "text": "Looked at 192/503 samples\n",
          "output_type": "stream"
        },
        {
          "name": "stdout",
          "text": "Looked at 224/503 samples\n",
          "output_type": "stream"
        },
        {
          "name": "stdout",
          "text": "Looked at 256/503 samples\n",
          "output_type": "stream"
        },
        {
          "name": "stdout",
          "text": "Looked at 288/503 samples\n",
          "output_type": "stream"
        },
        {
          "name": "stdout",
          "text": "Looked at 320/503 samples\n",
          "output_type": "stream"
        },
        {
          "name": "stdout",
          "text": "Looked at 352/503 samples\n",
          "output_type": "stream"
        },
        {
          "name": "stdout",
          "text": "Looked at 384/503 samples\n",
          "output_type": "stream"
        },
        {
          "name": "stdout",
          "text": "Looked at 416/503 samples\n",
          "output_type": "stream"
        },
        {
          "name": "stdout",
          "text": "Looked at 448/503 samples\n",
          "output_type": "stream"
        },
        {
          "name": "stdout",
          "text": "Looked at 345/503 samples\n",
          "output_type": "stream"
        },
        {
          "name": "stdout",
          "text": "\nTrain loss: 0.99280 | Test loss: 1.39233, Test acc: 0.15\n\nEpoch: 43\n-------\n",
          "output_type": "stream"
        },
        {
          "name": "stdout",
          "text": "Looked at 0/503 samples\n",
          "output_type": "stream"
        },
        {
          "name": "stdout",
          "text": "Looked at 32/503 samples\n",
          "output_type": "stream"
        },
        {
          "name": "stdout",
          "text": "Looked at 64/503 samples\n",
          "output_type": "stream"
        },
        {
          "name": "stdout",
          "text": "Looked at 96/503 samples\n",
          "output_type": "stream"
        },
        {
          "name": "stdout",
          "text": "Looked at 128/503 samples\n",
          "output_type": "stream"
        },
        {
          "name": "stdout",
          "text": "Looked at 160/503 samples\n",
          "output_type": "stream"
        },
        {
          "name": "stdout",
          "text": "Looked at 192/503 samples\n",
          "output_type": "stream"
        },
        {
          "name": "stdout",
          "text": "Looked at 224/503 samples\n",
          "output_type": "stream"
        },
        {
          "name": "stdout",
          "text": "Looked at 256/503 samples\n",
          "output_type": "stream"
        },
        {
          "name": "stdout",
          "text": "Looked at 288/503 samples\n",
          "output_type": "stream"
        },
        {
          "name": "stdout",
          "text": "Looked at 320/503 samples\n",
          "output_type": "stream"
        },
        {
          "name": "stdout",
          "text": "Looked at 352/503 samples\n",
          "output_type": "stream"
        },
        {
          "name": "stdout",
          "text": "Looked at 384/503 samples\n",
          "output_type": "stream"
        },
        {
          "name": "stdout",
          "text": "Looked at 416/503 samples\n",
          "output_type": "stream"
        },
        {
          "name": "stdout",
          "text": "Looked at 448/503 samples\n",
          "output_type": "stream"
        },
        {
          "name": "stdout",
          "text": "Looked at 345/503 samples\n",
          "output_type": "stream"
        },
        {
          "name": "stdout",
          "text": "\nTrain loss: 1.02018 | Test loss: 1.45435, Test acc: 0.14\n\nEpoch: 44\n-------\n",
          "output_type": "stream"
        },
        {
          "name": "stdout",
          "text": "Looked at 0/503 samples\n",
          "output_type": "stream"
        },
        {
          "name": "stdout",
          "text": "Looked at 32/503 samples\n",
          "output_type": "stream"
        },
        {
          "name": "stdout",
          "text": "Looked at 64/503 samples\n",
          "output_type": "stream"
        },
        {
          "name": "stdout",
          "text": "Looked at 96/503 samples\n",
          "output_type": "stream"
        },
        {
          "name": "stdout",
          "text": "Looked at 128/503 samples\n",
          "output_type": "stream"
        },
        {
          "name": "stdout",
          "text": "Looked at 160/503 samples\n",
          "output_type": "stream"
        },
        {
          "name": "stdout",
          "text": "Looked at 192/503 samples\n",
          "output_type": "stream"
        },
        {
          "name": "stdout",
          "text": "Looked at 224/503 samples\n",
          "output_type": "stream"
        },
        {
          "name": "stdout",
          "text": "Looked at 256/503 samples\n",
          "output_type": "stream"
        },
        {
          "name": "stdout",
          "text": "Looked at 288/503 samples\n",
          "output_type": "stream"
        },
        {
          "name": "stdout",
          "text": "Looked at 320/503 samples\n",
          "output_type": "stream"
        },
        {
          "name": "stdout",
          "text": "Looked at 352/503 samples\n",
          "output_type": "stream"
        },
        {
          "name": "stdout",
          "text": "Looked at 384/503 samples\n",
          "output_type": "stream"
        },
        {
          "name": "stdout",
          "text": "Looked at 416/503 samples\n",
          "output_type": "stream"
        },
        {
          "name": "stdout",
          "text": "Looked at 448/503 samples\n",
          "output_type": "stream"
        },
        {
          "name": "stdout",
          "text": "Looked at 345/503 samples\n",
          "output_type": "stream"
        },
        {
          "name": "stdout",
          "text": "\nTrain loss: 0.97947 | Test loss: 1.43347, Test acc: 0.14\n\nEpoch: 45\n-------\n",
          "output_type": "stream"
        },
        {
          "name": "stdout",
          "text": "Looked at 0/503 samples\n",
          "output_type": "stream"
        },
        {
          "name": "stdout",
          "text": "Looked at 32/503 samples\n",
          "output_type": "stream"
        },
        {
          "name": "stdout",
          "text": "Looked at 64/503 samples\n",
          "output_type": "stream"
        },
        {
          "name": "stdout",
          "text": "Looked at 96/503 samples\n",
          "output_type": "stream"
        },
        {
          "name": "stdout",
          "text": "Looked at 128/503 samples\n",
          "output_type": "stream"
        },
        {
          "name": "stdout",
          "text": "Looked at 160/503 samples\n",
          "output_type": "stream"
        },
        {
          "name": "stdout",
          "text": "Looked at 192/503 samples\n",
          "output_type": "stream"
        },
        {
          "name": "stdout",
          "text": "Looked at 224/503 samples\n",
          "output_type": "stream"
        },
        {
          "name": "stdout",
          "text": "Looked at 256/503 samples\n",
          "output_type": "stream"
        },
        {
          "name": "stdout",
          "text": "Looked at 288/503 samples\n",
          "output_type": "stream"
        },
        {
          "name": "stdout",
          "text": "Looked at 320/503 samples\n",
          "output_type": "stream"
        },
        {
          "name": "stdout",
          "text": "Looked at 352/503 samples\n",
          "output_type": "stream"
        },
        {
          "name": "stdout",
          "text": "Looked at 384/503 samples\n",
          "output_type": "stream"
        },
        {
          "name": "stdout",
          "text": "Looked at 416/503 samples\n",
          "output_type": "stream"
        },
        {
          "name": "stdout",
          "text": "Looked at 448/503 samples\n",
          "output_type": "stream"
        },
        {
          "name": "stdout",
          "text": "Looked at 345/503 samples\n",
          "output_type": "stream"
        },
        {
          "name": "stdout",
          "text": "\nTrain loss: 0.99773 | Test loss: 1.39018, Test acc: 0.16\n\nEpoch: 46\n-------\n",
          "output_type": "stream"
        },
        {
          "name": "stdout",
          "text": "Looked at 0/503 samples\n",
          "output_type": "stream"
        },
        {
          "name": "stdout",
          "text": "Looked at 32/503 samples\n",
          "output_type": "stream"
        },
        {
          "name": "stdout",
          "text": "Looked at 64/503 samples\n",
          "output_type": "stream"
        },
        {
          "name": "stdout",
          "text": "Looked at 96/503 samples\n",
          "output_type": "stream"
        },
        {
          "name": "stdout",
          "text": "Looked at 128/503 samples\n",
          "output_type": "stream"
        },
        {
          "name": "stdout",
          "text": "Looked at 160/503 samples\n",
          "output_type": "stream"
        },
        {
          "name": "stdout",
          "text": "Looked at 192/503 samples\n",
          "output_type": "stream"
        },
        {
          "name": "stdout",
          "text": "Looked at 224/503 samples\n",
          "output_type": "stream"
        },
        {
          "name": "stdout",
          "text": "Looked at 256/503 samples\n",
          "output_type": "stream"
        },
        {
          "name": "stdout",
          "text": "Looked at 288/503 samples\n",
          "output_type": "stream"
        },
        {
          "name": "stdout",
          "text": "Looked at 320/503 samples\n",
          "output_type": "stream"
        },
        {
          "name": "stdout",
          "text": "Looked at 352/503 samples\n",
          "output_type": "stream"
        },
        {
          "name": "stdout",
          "text": "Looked at 384/503 samples\n",
          "output_type": "stream"
        },
        {
          "name": "stdout",
          "text": "Looked at 416/503 samples\n",
          "output_type": "stream"
        },
        {
          "name": "stdout",
          "text": "Looked at 448/503 samples\n",
          "output_type": "stream"
        },
        {
          "name": "stdout",
          "text": "Looked at 345/503 samples\n",
          "output_type": "stream"
        },
        {
          "name": "stdout",
          "text": "\nTrain loss: 0.98001 | Test loss: 1.39175, Test acc: 0.17\n\nEpoch: 47\n-------\n",
          "output_type": "stream"
        },
        {
          "name": "stdout",
          "text": "Looked at 0/503 samples\n",
          "output_type": "stream"
        },
        {
          "name": "stdout",
          "text": "Looked at 32/503 samples\n",
          "output_type": "stream"
        },
        {
          "name": "stdout",
          "text": "Looked at 64/503 samples\n",
          "output_type": "stream"
        },
        {
          "name": "stdout",
          "text": "Looked at 96/503 samples\n",
          "output_type": "stream"
        },
        {
          "name": "stdout",
          "text": "Looked at 128/503 samples\n",
          "output_type": "stream"
        },
        {
          "name": "stdout",
          "text": "Looked at 160/503 samples\n",
          "output_type": "stream"
        },
        {
          "name": "stdout",
          "text": "Looked at 192/503 samples\n",
          "output_type": "stream"
        },
        {
          "name": "stdout",
          "text": "Looked at 224/503 samples\n",
          "output_type": "stream"
        },
        {
          "name": "stdout",
          "text": "Looked at 256/503 samples\n",
          "output_type": "stream"
        },
        {
          "name": "stdout",
          "text": "Looked at 288/503 samples\n",
          "output_type": "stream"
        },
        {
          "name": "stdout",
          "text": "Looked at 320/503 samples\n",
          "output_type": "stream"
        },
        {
          "name": "stdout",
          "text": "Looked at 352/503 samples\n",
          "output_type": "stream"
        },
        {
          "name": "stdout",
          "text": "Looked at 384/503 samples\n",
          "output_type": "stream"
        },
        {
          "name": "stdout",
          "text": "Looked at 416/503 samples\n",
          "output_type": "stream"
        },
        {
          "name": "stdout",
          "text": "Looked at 448/503 samples\n",
          "output_type": "stream"
        },
        {
          "name": "stdout",
          "text": "Looked at 345/503 samples\n",
          "output_type": "stream"
        },
        {
          "name": "stdout",
          "text": "\nTrain loss: 1.01061 | Test loss: 1.40960, Test acc: 0.14\n\nEpoch: 48\n-------\n",
          "output_type": "stream"
        },
        {
          "name": "stdout",
          "text": "Looked at 0/503 samples\n",
          "output_type": "stream"
        },
        {
          "name": "stdout",
          "text": "Looked at 32/503 samples\n",
          "output_type": "stream"
        },
        {
          "name": "stdout",
          "text": "Looked at 64/503 samples\n",
          "output_type": "stream"
        },
        {
          "name": "stdout",
          "text": "Looked at 96/503 samples\n",
          "output_type": "stream"
        },
        {
          "name": "stdout",
          "text": "Looked at 128/503 samples\n",
          "output_type": "stream"
        },
        {
          "name": "stdout",
          "text": "Looked at 160/503 samples\n",
          "output_type": "stream"
        },
        {
          "name": "stdout",
          "text": "Looked at 192/503 samples\n",
          "output_type": "stream"
        },
        {
          "name": "stdout",
          "text": "Looked at 224/503 samples\n",
          "output_type": "stream"
        },
        {
          "name": "stdout",
          "text": "Looked at 256/503 samples\n",
          "output_type": "stream"
        },
        {
          "name": "stdout",
          "text": "Looked at 288/503 samples\n",
          "output_type": "stream"
        },
        {
          "name": "stdout",
          "text": "Looked at 320/503 samples\n",
          "output_type": "stream"
        },
        {
          "name": "stdout",
          "text": "Looked at 352/503 samples\n",
          "output_type": "stream"
        },
        {
          "name": "stdout",
          "text": "Looked at 384/503 samples\n",
          "output_type": "stream"
        },
        {
          "name": "stdout",
          "text": "Looked at 416/503 samples\n",
          "output_type": "stream"
        },
        {
          "name": "stdout",
          "text": "Looked at 448/503 samples\n",
          "output_type": "stream"
        },
        {
          "name": "stdout",
          "text": "Looked at 345/503 samples\n",
          "output_type": "stream"
        },
        {
          "name": "stdout",
          "text": "\nTrain loss: 0.98991 | Test loss: 1.45727, Test acc: 0.13\n\nEpoch: 49\n-------\n",
          "output_type": "stream"
        },
        {
          "name": "stdout",
          "text": "Looked at 0/503 samples\n",
          "output_type": "stream"
        },
        {
          "name": "stdout",
          "text": "Looked at 32/503 samples\n",
          "output_type": "stream"
        },
        {
          "name": "stdout",
          "text": "Looked at 64/503 samples\n",
          "output_type": "stream"
        },
        {
          "name": "stdout",
          "text": "Looked at 96/503 samples\n",
          "output_type": "stream"
        },
        {
          "name": "stdout",
          "text": "Looked at 128/503 samples\n",
          "output_type": "stream"
        },
        {
          "name": "stdout",
          "text": "Looked at 160/503 samples\n",
          "output_type": "stream"
        },
        {
          "name": "stdout",
          "text": "Looked at 192/503 samples\n",
          "output_type": "stream"
        },
        {
          "name": "stdout",
          "text": "Looked at 224/503 samples\n",
          "output_type": "stream"
        },
        {
          "name": "stdout",
          "text": "Looked at 256/503 samples\n",
          "output_type": "stream"
        },
        {
          "name": "stdout",
          "text": "Looked at 288/503 samples\n",
          "output_type": "stream"
        },
        {
          "name": "stdout",
          "text": "Looked at 320/503 samples\n",
          "output_type": "stream"
        },
        {
          "name": "stdout",
          "text": "Looked at 352/503 samples\n",
          "output_type": "stream"
        },
        {
          "name": "stdout",
          "text": "Looked at 384/503 samples\n",
          "output_type": "stream"
        },
        {
          "name": "stdout",
          "text": "Looked at 416/503 samples\n",
          "output_type": "stream"
        },
        {
          "name": "stdout",
          "text": "Looked at 448/503 samples\n",
          "output_type": "stream"
        },
        {
          "name": "stdout",
          "text": "Looked at 345/503 samples\n",
          "output_type": "stream"
        },
        {
          "name": "stdout",
          "text": "\nTrain loss: 0.93247 | Test loss: 1.44704, Test acc: 0.16\n\n",
          "output_type": "stream"
        },
        {
          "data": {
            "text/plain": "<IPython.core.display.HTML object>",
            "text/html": "Waiting for W&B process to finish... <strong style=\"color:green\">(success).</strong>"
          },
          "metadata": {},
          "output_type": "display_data"
        },
        {
          "data": {
            "text/plain": "VBox(children=(Label(value='0.001 MB of 0.001 MB uploaded (0.000 MB deduped)\\r'), FloatProgress(value=1.0, max…",
            "application/vnd.jupyter.widget-view+json": {
              "version_major": 2,
              "version_minor": 0,
              "model_id": "1a0e37f356cb4aeb9e5973182e58aa50"
            }
          },
          "metadata": {},
          "output_type": "display_data"
        },
        {
          "data": {
            "text/plain": "<IPython.core.display.HTML object>",
            "text/html": "<style>\n    table.wandb td:nth-child(1) { padding: 0 10px; text-align: left ; width: auto;} td:nth-child(2) {text-align: left ; width: 100%}\n    .wandb-row { display: flex; flex-direction: row; flex-wrap: wrap; justify-content: flex-start; width: 100% }\n    .wandb-col { display: flex; flex-direction: column; flex-basis: 100%; flex: 1; padding: 10px; }\n    </style>\n<div class=\"wandb-row\"><div class=\"wandb-col\"><h3>Run history:</h3><br/><table class=\"wandb\"><tr><td>test_accuracy</td><td>▁▃▃▄▆▅▆▅▄▅▆▅▆▅▆▆▆▆▅▆▇█▇▆██▆▇▆▇▆▆▆▆▇▆██▆▇</td></tr><tr><td>test_loss</td><td>█▇▇▆▅▅▄▅▄▄▄▄▃▃▂▃▃▂▃▂▂▁▂▂▁▁▂▁▁▂▂▂▂▂▁▂▁▁▁▂</td></tr><tr><td>train_loss</td><td>█▇▇▆▆▅▅▅▄▄▄▄▃▃▃▃▃▃▃▃▂▂▂▂▂▂▂▂▂▂▂▂▂▂▁▂▁▁▁▁</td></tr></table><br/></div><div class=\"wandb-col\"><h3>Run summary:</h3><br/><table class=\"wandb\"><tr><td>test_accuracy</td><td>0.15636</td></tr><tr><td>test_loss</td><td>1.44704</td></tr><tr><td>train_loss</td><td>0.93247</td></tr></table><br/></div></div>"
          },
          "metadata": {},
          "output_type": "display_data"
        },
        {
          "data": {
            "text/plain": "<IPython.core.display.HTML object>",
            "text/html": " View run <strong style=\"color:#cdcd00\">effortless-music-38</strong> at: <a href='https://wandb.ai/bazclassification/testing_out_stuff/runs/8m1b9vak' target=\"_blank\">https://wandb.ai/bazclassification/testing_out_stuff/runs/8m1b9vak</a><br/>Synced 5 W&B file(s), 0 media file(s), 0 artifact file(s) and 0 other file(s)"
          },
          "metadata": {},
          "output_type": "display_data"
        },
        {
          "data": {
            "text/plain": "<IPython.core.display.HTML object>",
            "text/html": "Find logs at: <code>.\\wandb\\run-20230625_132441-8m1b9vak\\logs</code>"
          },
          "metadata": {},
          "output_type": "display_data"
        }
      ],
      "execution_count": null
    },
    {
      "cell_type": "markdown",
      "source": [
        "## 4. Model evaluations and predictions"
      ],
      "metadata": {
        "id": "W156Te_u5I_V",
        "azdata_cell_guid": "0225f980-66e1-47b7-b10e-70dc38435e75"
      }
    },
    {
      "cell_type": "markdown",
      "source": [
        "### 4.1 Create predictions"
      ],
      "metadata": {
        "id": "fxbM4PaTjd6D"
      }
    },
    {
      "cell_type": "code",
      "source": [
        "# Define function for making predictions\n",
        "def make_predictions(model: nn.Module,\n",
        "                     data: list,\n",
        "                     device: torch.device = device):\n",
        "\n",
        "  # Create an empty list for prediction probabilities\n",
        "  pred_probs = []\n",
        "  # Send model to device\n",
        "  model.to(device)\n",
        "  # Enable evaluation mode\n",
        "  model.eval()\n",
        "  with torch.inference_mode():\n",
        "    for sample in data:\n",
        "      # Prepare the sample (add a batch dimension and pass to target device)\n",
        "      sample = torch.unsqueeze(sample, dim=0).to(device)\n",
        "\n",
        "      # Forward pass (model output raw logits)\n",
        "      pred_logits = model(sample)\n",
        "\n",
        "      # Get prediction probability (logit -> prediction probability)\n",
        "      pred_prob = torch.softmax(pred_logits.squeeze(), dim=0)\n",
        "\n",
        "      # Get pred_prob off the GPU for further calculations\n",
        "      pred_probs.append(pred_prob.cpu())\n",
        "\n",
        "    # Stack the pred_probs to turn list into a tensor\n",
        "    return torch.stack(pred_probs)\n"
      ],
      "metadata": {
        "id": "LvU4uxQD5IXO",
        "azdata_cell_guid": "cd5b9901-93ae-43f8-bfaa-32eb30a225b7",
        "language": "python"
      },
      "outputs": [],
      "execution_count": null
    },
    {
      "cell_type": "code",
      "source": [
        "# Checks the image shape and dimensions\n",
        "# img, label = test_data[0][:10]\n",
        "# img.shape, label\n"
      ],
      "metadata": {
        "id": "frorBCI16vdq",
        "azdata_cell_guid": "e82380ec-b25f-4b69-b682-110015faeb8d",
        "language": "python",
        "outputId": "cd836b79-f4fd-4f12-daf3-429c29c588a6"
      },
      "outputs": [
        {
          "data": {
            "text/plain": "(torch.Size([3, 224, 224]), 0)"
          },
          "metadata": {},
          "execution_count": 78,
          "output_type": "execute_result"
        }
      ],
      "execution_count": null
    },
    {
      "cell_type": "markdown",
      "source": [
        "### 4.2 Plot predictions"
      ],
      "metadata": {
        "id": "WNAL94Y5kalP"
      }
    },
    {
      "cell_type": "code",
      "source": [
        "import random\n",
        "\n",
        "# Generates the same random sample\n",
        "random.seed(25)\n",
        "\n",
        "# List for prediction samples\n",
        "test_samples = []\n",
        "# Ground truth, the label the sample should be sorted in\n",
        "test_labels = []\n",
        "# Append 9 random samples to the lists\n",
        "for sample, label in random.sample(list(test_data), k=9):\n",
        "  test_samples.append(sample)\n",
        "  test_labels.append(label)\n",
        "\n",
        "# View the sample shape\n",
        "# test_samples[0].shape\n"
      ],
      "metadata": {
        "id": "xiR-jLYS6fTr",
        "azdata_cell_guid": "e9a4b5e9-eb6d-4d02-8e91-c2c7ef9e6ebf",
        "language": "python",
        "tags": []
      },
      "outputs": [],
      "execution_count": null
    },
    {
      "cell_type": "code",
      "source": [
        "# Make predictions\n",
        "pred_probs = make_predictions(model=model,\n",
        "                              data=test_samples)\n",
        "\n",
        "# Convert probabilities to prediction labels using ArgMax -> take the index of the value of the pred_probs is the highest\n",
        "pred_classes = pred_probs.argmax(dim=1)\n",
        "# print(pred_classes)\n",
        "# print(test_labels)\n"
      ],
      "metadata": {
        "id": "7FmXRUN2HZoK",
        "azdata_cell_guid": "9668dd86-9fd5-48a6-b89e-01821eb505fd",
        "language": "python"
      },
      "outputs": [],
      "execution_count": null
    },
    {
      "cell_type": "code",
      "source": [
        "# Plot predictions\n",
        "import matplotlib.pyplot as plt\n",
        "import numpy as np\n",
        "\n",
        "# Create plot figure for 9 sample images\n",
        "plt.figure(figsize=(9, 9))\n",
        "nrows = 3\n",
        "ncols = 3\n",
        "for i, sample in enumerate(test_samples):\n",
        "  # Create subplot\n",
        "  plt.subplot(nrows, ncols, i+1)\n",
        "\n",
        "  # PLot the target image\n",
        "  plt.imshow(sample.permute(1, 2, 0).numpy(), cmap=\"gray\")\n",
        "\n",
        "  # Find the pred label (in text form)\n",
        "  pred_label = class_names[pred_classes[i]]\n",
        "\n",
        "  # Get the truth label (in text form)\n",
        "  truth_label = class_names[test_labels[i]]\n",
        "\n",
        "  # Create a title for the plot\n",
        "  title_text = f\"Pred: {pred_label} | Truth: {truth_label}\"\n",
        "\n",
        "  # Check for equality between pred and truth and change color of title text\n",
        "  if pred_label == truth_label:\n",
        "    plt.title(title_text, fontsize=10, c=\"g\") # if pred is true, title color turns green\n",
        "  else:\n",
        "    plt.title(title_text, fontsize=10, c=\"r\") # if pred is false, title color turns red\n",
        "\n",
        "\n",
        "plt.axis(False);\n",
        "\n",
        "plt.show()\n"
      ],
      "metadata": {
        "id": "_pmAlhz2IBui",
        "azdata_cell_guid": "e8e71694-34d3-4693-ba69-6711ef02c6ba",
        "language": "python",
        "outputId": "1158afd5-ecc2-4082-a0ae-768f65b04374"
      },
      "outputs": [
        {
          "data": {
            "text/plain": "<Figure size 900x900 with 9 Axes>",
            "image/png": "[encoded data removed]"
          },
          "metadata": {},
          "output_type": "display_data"
        }
      ],
      "execution_count": null
    },
    {
      "cell_type": "markdown",
      "source": [
        "## 5. Metrics"
      ],
      "metadata": {
        "id": "0WyNeu5PlNcj"
      }
    },
    {
      "cell_type": "markdown",
      "source": [
        "### 5.1 Make predictions with trained model"
      ],
      "metadata": {
        "id": "_r5ga9PWl4ou"
      }
    },
    {
      "cell_type": "code",
      "source": [
        "# Import tqdm for progress bar\n",
        "from tqdm.auto import tqdm\n",
        "\n",
        "# Make predictions with trained model\n",
        "y_preds = []\n",
        "model.eval()\n",
        "with torch.inference_mode():\n",
        "  for X, y in tqdm(test_dataloader, desc=\"Making predictions\"):\n",
        "    # Send data and targets to target device\n",
        "    X, y = X.to(device), y.to(device)\n",
        "    # Forward pass\n",
        "    y_logit = model(X)\n",
        "    # Turn predictions from logits -> pred prob -> pred labels\n",
        "    y_pred = torch.softmax(y_logit, dim=1).argmax(dim=1)\n",
        "    # Put preds on CPU for evaluation\n",
        "    y_preds.append(y_pred.cpu())\n",
        "# Concat list of preds into tensor\n",
        "y_pred_tensor = torch.cat(y_preds)"
      ],
      "metadata": {
        "azdata_cell_guid": "653177b7-e383-4a08-90a0-e90e76988e07",
        "language": "python",
        "colab": {
          "referenced_widgets": [
            "255c72d66a8e4b1b833058803ebf4f0f"
          ]
        },
        "id": "gUlpqBbc6I6x",
        "outputId": "7ee54051-da04-4e84-eee0-b0956e11592a"
      },
      "outputs": [
        {
          "data": {
            "text/plain": "Making predictions:   0%|          | 0/4 [00:00<?, ?it/s]",
            "application/vnd.jupyter.widget-view+json": {
              "version_major": 2,
              "version_minor": 0,
              "model_id": "255c72d66a8e4b1b833058803ebf4f0f"
            }
          },
          "metadata": {},
          "output_type": "display_data"
        }
      ],
      "execution_count": null
    },
    {
      "cell_type": "markdown",
      "source": [
        "### 5.2 Confusion matrix from torchmetrics mlxtend"
      ],
      "metadata": {
        "id": "haoDNDiel8m_"
      }
    },
    {
      "cell_type": "code",
      "source": [
        "# Import mlxtend version 19 or higher to acces confusion matrix function\n",
        "import torchmetrics, mlxtend\n",
        "print(f\"mlxtend version: {mlxtend.__version__}\")\n",
        "assert int(mlxtend.__version__.split(\".\")[1]) >= 19, \"mlxtend verison should be 0.19.0 or higher\"\n"
      ],
      "metadata": {
        "language": "python",
        "azdata_cell_guid": "ffa601c3-b8d7-4faf-aaf7-58add411d565",
        "id": "6NiRYsI_6I6x",
        "outputId": "718a87f9-0072-438e-c386-d7f61cf06b83"
      },
      "outputs": [
        {
          "name": "stdout",
          "text": "mlxtend version: 0.22.0\n",
          "output_type": "stream"
        }
      ],
      "execution_count": null
    },
    {
      "cell_type": "code",
      "source": [
        "# Turn list of predictions into tensor\n",
        "y_pred_tensor = y_pred_tensor.type(torch.float)\n",
        "y_pred_tensor.dtype"
      ],
      "metadata": {
        "azdata_cell_guid": "572a6d90-5802-4326-aa9c-66f27de8e652",
        "language": "python",
        "id": "hVcyZiwk6I6y",
        "outputId": "5a5a9c0b-c59a-4e00-80cc-4d7b30efaf16"
      },
      "outputs": [
        {
          "data": {
            "text/plain": "torch.float32"
          },
          "metadata": {},
          "execution_count": 45,
          "output_type": "execute_result"
        }
      ],
      "execution_count": null
    },
    {
      "cell_type": "code",
      "source": [
        "from torchmetrics import ConfusionMatrix\n",
        "import matplotlib.pyplot as plt\n",
        "from mlxtend.plotting import plot_confusion_matrix\n",
        "\n",
        "# Setup the confusion matrix to compare the predictions to ground truth\n",
        "confmat = ConfusionMatrix(num_classes=len(class_names), task='multiclass')\n",
        "confmat_tensor = confmat(preds=y_pred_tensor,\n",
        "                         target=torch.tensor(test_data.targets)) # convert to tensor instead of list\n",
        "\n",
        "# Plot the confusion matrix\n",
        "fig, ax = plot_confusion_matrix(\n",
        "    conf_mat=confmat_tensor.numpy(), # matplotlib works with numpy\n",
        "    class_names=class_names, # rows and column labels are class names\n",
        "    figsize=(10, 7)\n",
        ");\n",
        "\n"
      ],
      "metadata": {
        "azdata_cell_guid": "24ee06fa-f77b-468b-b74b-2f8cf9cc3f9b",
        "language": "python",
        "id": "VNS0h4nw6I6y",
        "outputId": "d3885818-7631-4156-96ba-0fc3258f1fbd"
      },
      "outputs": [
        {
          "data": {
            "text/plain": "<Figure size 1000x700 with 1 Axes>",
            "image/png": "[encoded data removed]"
          },
          "metadata": {},
          "output_type": "display_data"
        }
      ],
      "execution_count": null
    },
    {
      "cell_type": "markdown",
      "source": [
        "### 5.3 Precision, recall, f1-score and accuracy"
      ],
      "metadata": {
        "id": "gssc5OAFmrfi"
      }
    },
    {
      "cell_type": "code",
      "source": [
        "import numpy as np\n",
        "from sklearn.metrics import precision_score, recall_score, accuracy_score\n",
        "\n",
        "# Calculate the micro precision and recall using sklearn's functions\n",
        "precision = precision_score(y_pred_tensor, torch.tensor(test_data.targets), average='micro')\n",
        "recall = recall_score(y_pred_tensor, torch.tensor(test_data.targets), average='micro')\n",
        "accuracy = accuracy_score(y_pred_tensor, torch.tensor(test_data.targets), normalize=True)\n",
        "\n",
        "# Print the calculated precision and recall\n",
        "print(\"Precision:\", precision)\n",
        "print(\"Recall:\", recall)\n",
        "print(\"Accuracy:\", accuracy)\n"
      ],
      "metadata": {
        "language": "python",
        "azdata_cell_guid": "66813e18-2a03-4ba9-b552-6461ce2903b8",
        "id": "JJBG69LF6I64",
        "outputId": "6015fd8a-3ce6-42d3-81fb-733eecdd0da5"
      },
      "outputs": [
        {
          "name": "stdout",
          "text": "Precision: 0.5080645161290323\nRecall: 0.5080645161290323\nAccuracy: 0.5080645161290323\n",
          "output_type": "stream"
        }
      ],
      "execution_count": null
    },
    {
      "cell_type": "code",
      "source": [
        "import sklearn.metrics as metrics\n",
        "from sklearn.metrics import classification_report\n",
        "\n",
        "# Calculate the micro precision and recall using sklearn's classification report module\n",
        "report = metrics.classification_report(y_pred=y_pred_tensor, y_true=torch.tensor(test_data.targets), target_names=class_names, zero_division=0)\n",
        "# Print the calculated precision and recall\n",
        "print(report)\n"
      ],
      "metadata": {
        "language": "python",
        "azdata_cell_guid": "50b77a3d-6389-44d5-b739-b37e460fe1a3",
        "id": "ZopsPp7V6I64",
        "outputId": "23bc94ff-457d-49de-8622-23ff9a21a59c"
      },
      "outputs": [
        {
          "name": "stdout",
          "text": "                precision    recall  f1-score   support\n\n          bust       0.29      0.29      0.29        17\n        figure       0.43      0.47      0.45        19\n      fragment       0.33      0.23      0.27        13\ngeometric form       0.53      0.50      0.51        18\n          head       0.55      0.84      0.67        19\n  installation       0.31      0.33      0.32        12\n  organic form       0.33      0.17      0.22        12\n       relievo       0.75      0.64      0.69        14\n\n      accuracy                           0.46       124\n     macro avg       0.44      0.44      0.43       124\n  weighted avg       0.45      0.46      0.45       124\n\n",
          "output_type": "stream"
        }
      ],
      "execution_count": null
    }
  ]
}